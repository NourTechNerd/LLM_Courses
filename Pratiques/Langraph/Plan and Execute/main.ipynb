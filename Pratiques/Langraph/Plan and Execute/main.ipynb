{
 "cells": [
  {
   "cell_type": "markdown",
   "metadata": {},
   "source": [
    "## Description :\n",
    "- The Idea is to have an LLM that break down a User request to steps in a specific order.\n",
    "- A new method call **create_react_agent** : Creates a graph that works with a chat model that utilizes tool calling.."
   ]
  },
  {
   "cell_type": "markdown",
   "metadata": {},
   "source": [
    "## Setup :\n",
    "\n",
    "curl -fsSL https://ollama.com/install.sh | sh\n",
    "\n",
    "ollama pull llama3-groq-tool-use:8b\n",
    "\n",
    "ollama pull llama3.1:8b-instruct-fp16\n",
    "\n",
    "ollama pull mistral-nemo:12b-instruct-2407-fp16       \n",
    "\n",
    "ollama pull codegeex4:latest  `Not working with Function calling , but is good at Code related tasks`\n",
    "\n",
    "ollama pull nomic-embed-text  `For Embedding`\n",
    "\n",
    "\n",
    "\n",
    "\\n"
   ]
  },
  {
   "cell_type": "markdown",
   "metadata": {},
   "source": [
    "## Build LLMs and Agents :"
   ]
  },
  {
   "cell_type": "markdown",
   "metadata": {},
   "source": [
    "### LLMs :"
   ]
  },
  {
   "cell_type": "markdown",
   "metadata": {},
   "source": [
    "#### Planer"
   ]
  },
  {
   "cell_type": "code",
   "execution_count": 1,
   "metadata": {},
   "outputs": [],
   "source": [
    "import os\n",
    "os.environ[\"FIREWORKS_API_KEY\"] = \"lapNGjpfc3RIJrcneGK28tRqAUSbch1AFcGI8fAdvAaGVfud\" "
   ]
  },
  {
   "cell_type": "code",
   "execution_count": 21,
   "metadata": {},
   "outputs": [],
   "source": [
    "from typing import Literal\n",
    "from langchain_core.prompts import ChatPromptTemplate\n",
    "from langchain_core.pydantic_v1 import BaseModel, Field\n",
    "from langchain_openai import ChatOpenAI\n",
    "from typing import List,Any\n",
    "#import ast\n",
    "from langchain_fireworks import ChatFireworks\n",
    "\n",
    "class Plan(BaseModel):\n",
    "    \"\"\"Plan to follow in future\"\"\"\n",
    "    Next_Step:  str = Field(...,description = \"This is the Next Step to be executed\")\n",
    "    Next_Node : Literal[\"Tavily\",\"PythoInterp\",\"Coder\",\"Resumer\"] = Field(...,description = \"This is the Next Node Name\")\n",
    "    Node_Input: str = Field(...,description = \"This is the Next Node Input\")\n",
    "\n",
    "\n",
    "# LLM with Structered Output\n",
    "#llm = ChatOpenAI(api_key=\"ollama\",model=\"mistral-nemo:12b-instruct-2407-fp16\",base_url=\"http://localhost:11434/v1\")\n",
    "llm = ChatFireworks(model=\"accounts/fireworks/models/llama-v3p1-70b-instruct\")\n",
    "structured_llm_planer = llm.with_structured_output(Plan)\n",
    "\n",
    "# Prompt\n",
    "system = \"\"\" You are an expert manager and Planer. for a given\n",
    "- User request                   : {User_Request}\\n\n",
    "- The Last executed Step         : {Last_Step} \\n\n",
    "- The Last executed Step result  : {Step_Result}\\n\n",
    "You Should give the give next step,the Next Node to perform the step, and the Node Input.\\n\n",
    "Nodes are Tools or LLMs like you, they can perform a step.\\n\n",
    "Tools are :\\n\n",
    "- Tavily            : A web search engine Like google, useful when you need data from the net, events, statistiques... \\n\n",
    "- Tavily Input      : an optimized search query.\\n\n",
    "- PythoInterp       : A python interpeter to run python Code.\\n\n",
    "- PythoInterp Input : is a Python Code in a string format.\\n\n",
    "LLMs are : \\n\n",
    "- Coder       : an expert developer and code writer.useful to write Python Code.\\n\n",
    "- Coder Input : is a request to generate a python Code, don't forget to add any important data that the coder may need.\\n\n",
    "- Resumer : an expert at resuming and extracting main informations from the Tavily results.\\n   \n",
    "- Coder Input : is a request to resume or extract main informations for Tavily results, don't forget to add Tavily results in this input.\\n \n",
    "You Sructure your response in a python Dictionary with keys are :\n",
    "    Next_Step:  str = Field(...,description = \"This is the Next Step to be executed\")\n",
    "    Next_Node : Literal[\"Tavily\",\"PythoInterp\",\"Coder\",\"Resumer\"] = Field(...,description = \"This is the Next Node Name\")\n",
    "    Node_Input: str = Field(...,description = \"This is the Next Node Input\")\n",
    "\"\"\"\n",
    "\n",
    "planer_prompt = ChatPromptTemplate.from_messages(\n",
    "    [\n",
    "        (\"system\", system)\n",
    "    ]\n",
    ")\n",
    "\n",
    "\n",
    "  \n",
    "Planer = planer_prompt | llm "
   ]
  },
  {
   "cell_type": "code",
   "execution_count": 19,
   "metadata": {},
   "outputs": [],
   "source": [
    "from langchain_community.tools.tavily_search import TavilySearchResults\n",
    "import os\n",
    "\n",
    "os.environ[\"TAVILY_API_KEY\"] = \"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\"\n",
    "Tavily = TavilySearchResults(max_results=3)\n",
    "response =Tavily.invoke(\"the winner of Australia open 2024\")"
   ]
  },
  {
   "cell_type": "code",
   "execution_count": 22,
   "metadata": {},
   "outputs": [
    {
     "data": {
      "text/plain": [
       "AIMessage(content='Here is the response:\\n\\n```\\n{\\n    \"Next_Step\": \"Get the Name of the winner of Australia open 2024\",\\n    \"Next_Node\": \"Tavily\",\\n    \"Node_Input\": \"Australia Open 2024 winner\"\\n}\\n```\\n\\nExplanation:\\n\\nSince the last executed step was \"Get the Name of the winner of Australia open 2024\" and it returned None, we need to try again to get the name of the winner. The best way to do this is by using the Tavily search engine to search for the winner of the Australia Open 2024. The search query is \"Australia Open 2024 winner\".', response_metadata={'token_usage': {'prompt_tokens': 383, 'total_tokens': 518, 'completion_tokens': 135}, 'model_name': 'accounts/fireworks/models/llama-v3p1-70b-instruct', 'system_fingerprint': '', 'finish_reason': 'stop', 'logprobs': None}, id='run-c74d64ff-dea0-4eb4-b02f-8e555e2a46ee-0', usage_metadata={'input_tokens': 383, 'output_tokens': 135, 'total_tokens': 518})"
      ]
     },
     "execution_count": 22,
     "metadata": {},
     "output_type": "execute_result"
    }
   ],
   "source": [
    "input = {\"User_Request\":\"what is the hometown of the current Australia open winner 2024?\",\n",
    "\"Last_Step\":\"Get the Name of the winner of Australia open 2024\",\n",
    "\"Step_Result\":response}\n",
    "response = Planer.invoke(input)\n",
    "response"
   ]
  },
  {
   "cell_type": "code",
   "execution_count": 23,
   "metadata": {},
   "outputs": [
    {
     "name": "stdout",
     "output_type": "stream",
     "text": [
      "Here is the response:\n",
      "\n",
      "```\n",
      "{\n",
      "    \"Next_Step\": \"Get the Name of the winner of Australia open 2024\",\n",
      "    \"Next_Node\": \"Tavily\",\n",
      "    \"Node_Input\": \"Australia Open 2024 winner\"\n",
      "}\n",
      "```\n",
      "\n",
      "Explanation:\n",
      "\n",
      "Since the last executed step was \"Get the Name of the winner of Australia open 2024\" and it returned None, we need to try again to get the name of the winner. The best way to do this is by using the Tavily search engine to search for the winner of the Australia Open 2024. The search query is \"Australia Open 2024 winner\".\n"
     ]
    }
   ],
   "source": [
    "print(response.content)"
   ]
  },
  {
   "cell_type": "markdown",
   "metadata": {},
   "source": [
    "#### Worker_Graph :"
   ]
  },
  {
   "cell_type": "code",
   "execution_count": 4,
   "metadata": {},
   "outputs": [],
   "source": [
    "from Graphs import Worker_Graph"
   ]
  },
  {
   "cell_type": "markdown",
   "metadata": {},
   "source": [
    "## Initialize The Graph:"
   ]
  },
  {
   "cell_type": "code",
   "execution_count": 5,
   "metadata": {},
   "outputs": [],
   "source": [
    "from typing_extensions import TypedDict\n",
    "import pandas as pd\n",
    "from langgraph.graph import StateGraph, START, END\n",
    "from typing import Annotated,List\n",
    "from langgraph.graph.message import add_messages\n",
    "\n",
    "class Super_State(TypedDict):\n",
    "    question :str\n",
    "    messages: Annotated[list, add_messages]\n",
    "    Plan  : List[str]\n",
    "    Done : bool\n",
    "\n",
    "graph_builder = StateGraph(Super_State)"
   ]
  },
  {
   "cell_type": "markdown",
   "metadata": {},
   "source": [
    "## Nodes Functions :"
   ]
  },
  {
   "cell_type": "markdown",
   "metadata": {},
   "source": [
    "### LLMs:"
   ]
  },
  {
   "cell_type": "code",
   "execution_count": 6,
   "metadata": {},
   "outputs": [],
   "source": [
    "def Planer_function(state:Super_State):\n",
    "    User_resquest = state[\"question\"]\n",
    "    input = {\"question\":User_resquest}\n",
    "    response = Planer.invoke(input)\n",
    "    return {\"Plan\":response}\n",
    "\n",
    "def Print_Messgaes(Messages):\n",
    "    for message in Messages[\"messages\"]:\n",
    "        print(message)\n",
    "\n",
    "def Run_Worker(state:Super_State,Task):\n",
    "    Input_Message = {\"messages\": [(\"human\", Task)]}\n",
    "    config = {\"configurable\": {\"thread_id\": \"1\"}}\n",
    "    Worker_messages = Worker_Graph.invoke(Input_Message,config)\n",
    "    #print(Worker_messages)\n",
    "    Print_Messgaes(Worker_messages)\n",
    "    return {\"messages\":Worker_messages}\n",
    "\n",
    "def Worker_function(state:Super_State):\n",
    "    Plan = state[\"Plan\"]\n",
    "    for i,task in enumerate(Plan):\n",
    "        Run_Worker(state,task)\n",
    "        print(f\"Task {i} has been executed\")\n",
    "       \n",
    "    return {\"Done\":True}\n",
    "\n",
    "def Condition(state:Super_State):\n",
    "    if state[\"Done\"]:\n",
    "        return \"Finish\""
   ]
  },
  {
   "cell_type": "markdown",
   "metadata": {},
   "source": [
    "## Design the Graph:"
   ]
  },
  {
   "cell_type": "markdown",
   "metadata": {},
   "source": [
    "### Build :"
   ]
  },
  {
   "cell_type": "code",
   "execution_count": 7,
   "metadata": {},
   "outputs": [],
   "source": [
    "graph_builder.add_node(\"Planer\",Planer_function)\n",
    "graph_builder.add_node(\"Worker_Graph\",Worker_function)"
   ]
  },
  {
   "cell_type": "code",
   "execution_count": 8,
   "metadata": {},
   "outputs": [],
   "source": [
    "graph_builder.add_edge(START,\"Planer\")\n",
    "graph_builder.add_edge(\"Planer\",\"Worker_Graph\")\n",
    "graph_builder.add_conditional_edges(\"Worker_Graph\",Condition,{\"Finish\":\"__end__\"})"
   ]
  },
  {
   "cell_type": "code",
   "execution_count": 9,
   "metadata": {},
   "outputs": [],
   "source": [
    "Super_Graph = graph_builder.compile()"
   ]
  },
  {
   "cell_type": "markdown",
   "metadata": {},
   "source": [
    "### Visualize :"
   ]
  },
  {
   "cell_type": "code",
   "execution_count": 10,
   "metadata": {},
   "outputs": [
    {
     "data": {
      "image/jpeg": "[encoded data removed]",
      "text/plain": [
       "<IPython.core.display.Image object>"
      ]
     },
     "metadata": {},
     "output_type": "display_data"
    }
   ],
   "source": [
    "from IPython.display import Image, display\n",
    "\n",
    "try:\n",
    "    display(Image(Super_Graph.get_graph(xray= True).draw_mermaid_png()))\n",
    "except Exception:\n",
    "    # This requires some extra dependencies and is optional\n",
    "    pass"
   ]
  },
  {
   "cell_type": "markdown",
   "metadata": {},
   "source": [
    "## Interact with The Graph :"
   ]
  },
  {
   "cell_type": "code",
   "execution_count": 11,
   "metadata": {},
   "outputs": [
    {
     "name": "stdout",
     "output_type": "stream",
     "text": [
      "Node :Planer\n",
      "State :{'Plan': ['Search for recent Australia Open tennis tournament information', \"Identify the current tournament champion's name\", 'Look up brief biographical information on this player', 'Select information about their hometown or birthplace', 'Review information to confirm final answer']}\n",
      "\n",
      "\n",
      "content='Search for recent Australia Open tennis tournament information' id='dd00bfa7-8be4-42ea-b226-3fcd02f1e350'\n",
      "content='' additional_kwargs={'tool_calls': [{'id': 'call_6ghs7fwb', 'function': {'arguments': '{\"query\":\"Australia Open tennis recently results\"}', 'name': 'tavily_search_results_json'}, 'type': 'function'}]} response_metadata={'token_usage': {'completion_tokens': 25, 'prompt_tokens': 185, 'total_tokens': 210}, 'model_name': 'llama3.1:8b-instruct-fp16', 'system_fingerprint': 'fp_ollama', 'finish_reason': 'tool_calls', 'logprobs': None} id='run-9740869d-f964-4e90-bc83-0f88c13007f1-0' tool_calls=[{'name': 'tavily_search_results_json', 'args': {'query': 'Australia Open tennis recently results'}, 'id': 'call_6ghs7fwb', 'type': 'tool_call'}] usage_metadata={'input_tokens': 185, 'output_tokens': 25, 'total_tokens': 210}\n",
      "content='[{\"url\": \"https://www.foxsports.com.au/tennis/australian-open\", \"content\": \"Australian Open 2024 tennis championship news. Latest in Australian Open tennis results, live scores & news on tennis players & matches at FOX SPORTS.\"}, {\"url\": \"https://www.abc.net.au/news/2023-01-29/live-updates-australian-open-men-final-djokovic-tsitsipas/101904984\", \"content\": \"More from ABC\\\\nEditorial Policies\\\\nSport\\\\nNovak Djokovic wins 10th Australian Open men\\'s singles title by defeating Stefanos Tsitsipas, ties Rafael Nadal\\'s 22 slam titles\\\\nSportNovak Djokovic wins 10th Australian Open men\\'s singles title by defeating Stefanos Tsitsipas, ties Rafael Nadal\\'s 22 slam titles\\\\nNovak Djokovic has won his 10th Australian Open title and equalled Rafael Nadal\\'s record of 22 men\\'s grand slam singles titles after\\\\u00a0what he called the \\\\\"biggest victory\\\\\" of his life.\\\\n Key Events\\\\nTop Stories\\\\nPenny Wong delivers Indian Ocean strategy speech, urges China to be more transparent amid military build-up\\\\nMore than 40,000 people caught up in sulphur dioxide toxic smoke warning in Perth\\\\nWhen you weren\\'t looking, bad politics became cunningly clever politics\\\\nPrince Harry vows to continue mission to change press after settling phone-hacking lawsuit\\\\nCFA crews withdrawn from Samantha Murphy search as more detectives join case\\\\nJust In\\\\nWhat lives in your house? This Brisbane trio discovered more than 1,000 species in theirs\\\\n\\'Lucky\\' tenant says public housing saved his life and countless more as questions raised over $10 billion fund\\\\nWhen you weren\\'t looking, bad politics became cunningly clever politics\\\\nAcclaimed Japanese conductor Seiji Ozawa dies aged 88\\\\nFooter\\\\nWe acknowledge Aboriginal and Torres Strait Islander peoples as the First Australians and Traditional Custodians of the lands where we live, learn, and work.\\\\n A loss would be character building for Novak.\\\\n- Susan\\\\nDjokovic *5-5 Tsitsipas, 6-3, 7-6\\\\nBy Simon Smale\\\\nAnother stupid shout from someone in the crowd puts Djokovic off and he walks away as the umpire tells everyone again not to shout as players are about to serve.\\\\n A perfect 10\\\\nBy Simon Smale\\\\nWhat a difference a year makes\\\\nBy Simon Smale\\\\nLet\\'s remember, last year Novak Djokovic had been kicked out of Australia and was watching on at home as Rafael Nadal won a stunning title of his own.\\\\n\"}, {\"url\": \"https://www.espn.com/tennis/story/_/id/39407873/jannik-sinner-wins-australian-open-claims-first-major-title\", \"content\": \"Editor\\'s Picks\\\\nHow Sinner fought back to win his first Australian Open title61dJake Michaels\\\\nAs it happened: Sinner comes from two sets down to win Australian Open61dESPN\\\\nHow Aryna Sabalenka won her second Australian Open title in a row62dJake Michaels\\\\nThe Russian played with pace and aggression early -- dictating terms to Sinner and hitting 14 winners to the Italian\\'s five in an opening set that flew by in 36 minutes.\\\\n Medvedev held to love before putting Sinner again on the back foot, breaking for a 3-1 lead on the way to taking the second set after the pair exchanged a break each later in the stanza.\\\\n Sinner was wayward, sending balls long or missing wide, which was in total contrast to the six matches prior to the final in which he gave up just the one set -- in the semifinal to Novak Djokovic.\\\\n With the final going the distance, it sets a record for the most five-set matches played at an Australian Open and ties the record for most in a major with the 1983 US Open.\\\\n His first-serve percentage dipped from 86% in the first set to 50% by the third, and he netted 15 unforced errors as Sinner eventually broke in the 10th game of the set, winning it 6-4.\\\\n\"}]' name='tavily_search_results_json' id='63ea6c1f-1892-40f1-921d-c25ba0c49dbc' tool_call_id='call_6ghs7fwb'\n",
      "content=\"Based on the search results, it appears that the Australian Open tennis tournament has recently concluded, with Jannik Sinner winning his first major title by defeating Stefanos Tsitsipas in a tightly contested final match. The result was a five-set thriller, with Sinner eventually emerging victorious after being down two sets to one.\\n\\nSinner, who had a strong showing at the tournament, winning 6-5 of his matches and only losing one set throughout, has become Australia's first Grand Slam champion since Chris Evert in the women category as well as since Roy Emerson in men's titles according to the past recent Grand Slam history records.\" response_metadata={'token_usage': {'completion_tokens': 130, 'prompt_tokens': 977, 'total_tokens': 1107}, 'model_name': 'llama3.1:8b-instruct-fp16', 'system_fingerprint': 'fp_ollama', 'finish_reason': 'stop', 'logprobs': None} id='run-99f4b72f-de68-4c4f-9e30-d1d17e7eda58-0' usage_metadata={'input_tokens': 977, 'output_tokens': 130, 'total_tokens': 1107}\n",
      "Task 0 has been executed\n",
      "content='Search for recent Australia Open tennis tournament information' id='dd00bfa7-8be4-42ea-b226-3fcd02f1e350'\n",
      "content='' additional_kwargs={'tool_calls': [{'id': 'call_6ghs7fwb', 'function': {'arguments': '{\"query\":\"Australia Open tennis recently results\"}', 'name': 'tavily_search_results_json'}, 'type': 'function'}]} response_metadata={'token_usage': {'completion_tokens': 25, 'prompt_tokens': 185, 'total_tokens': 210}, 'model_name': 'llama3.1:8b-instruct-fp16', 'system_fingerprint': 'fp_ollama', 'finish_reason': 'tool_calls', 'logprobs': None} id='run-9740869d-f964-4e90-bc83-0f88c13007f1-0' tool_calls=[{'name': 'tavily_search_results_json', 'args': {'query': 'Australia Open tennis recently results'}, 'id': 'call_6ghs7fwb', 'type': 'tool_call'}] usage_metadata={'input_tokens': 185, 'output_tokens': 25, 'total_tokens': 210}\n",
      "content='[{\"url\": \"https://www.foxsports.com.au/tennis/australian-open\", \"content\": \"Australian Open 2024 tennis championship news. Latest in Australian Open tennis results, live scores & news on tennis players & matches at FOX SPORTS.\"}, {\"url\": \"https://www.abc.net.au/news/2023-01-29/live-updates-australian-open-men-final-djokovic-tsitsipas/101904984\", \"content\": \"More from ABC\\\\nEditorial Policies\\\\nSport\\\\nNovak Djokovic wins 10th Australian Open men\\'s singles title by defeating Stefanos Tsitsipas, ties Rafael Nadal\\'s 22 slam titles\\\\nSportNovak Djokovic wins 10th Australian Open men\\'s singles title by defeating Stefanos Tsitsipas, ties Rafael Nadal\\'s 22 slam titles\\\\nNovak Djokovic has won his 10th Australian Open title and equalled Rafael Nadal\\'s record of 22 men\\'s grand slam singles titles after\\\\u00a0what he called the \\\\\"biggest victory\\\\\" of his life.\\\\n Key Events\\\\nTop Stories\\\\nPenny Wong delivers Indian Ocean strategy speech, urges China to be more transparent amid military build-up\\\\nMore than 40,000 people caught up in sulphur dioxide toxic smoke warning in Perth\\\\nWhen you weren\\'t looking, bad politics became cunningly clever politics\\\\nPrince Harry vows to continue mission to change press after settling phone-hacking lawsuit\\\\nCFA crews withdrawn from Samantha Murphy search as more detectives join case\\\\nJust In\\\\nWhat lives in your house? This Brisbane trio discovered more than 1,000 species in theirs\\\\n\\'Lucky\\' tenant says public housing saved his life and countless more as questions raised over $10 billion fund\\\\nWhen you weren\\'t looking, bad politics became cunningly clever politics\\\\nAcclaimed Japanese conductor Seiji Ozawa dies aged 88\\\\nFooter\\\\nWe acknowledge Aboriginal and Torres Strait Islander peoples as the First Australians and Traditional Custodians of the lands where we live, learn, and work.\\\\n A loss would be character building for Novak.\\\\n- Susan\\\\nDjokovic *5-5 Tsitsipas, 6-3, 7-6\\\\nBy Simon Smale\\\\nAnother stupid shout from someone in the crowd puts Djokovic off and he walks away as the umpire tells everyone again not to shout as players are about to serve.\\\\n A perfect 10\\\\nBy Simon Smale\\\\nWhat a difference a year makes\\\\nBy Simon Smale\\\\nLet\\'s remember, last year Novak Djokovic had been kicked out of Australia and was watching on at home as Rafael Nadal won a stunning title of his own.\\\\n\"}, {\"url\": \"https://www.espn.com/tennis/story/_/id/39407873/jannik-sinner-wins-australian-open-claims-first-major-title\", \"content\": \"Editor\\'s Picks\\\\nHow Sinner fought back to win his first Australian Open title61dJake Michaels\\\\nAs it happened: Sinner comes from two sets down to win Australian Open61dESPN\\\\nHow Aryna Sabalenka won her second Australian Open title in a row62dJake Michaels\\\\nThe Russian played with pace and aggression early -- dictating terms to Sinner and hitting 14 winners to the Italian\\'s five in an opening set that flew by in 36 minutes.\\\\n Medvedev held to love before putting Sinner again on the back foot, breaking for a 3-1 lead on the way to taking the second set after the pair exchanged a break each later in the stanza.\\\\n Sinner was wayward, sending balls long or missing wide, which was in total contrast to the six matches prior to the final in which he gave up just the one set -- in the semifinal to Novak Djokovic.\\\\n With the final going the distance, it sets a record for the most five-set matches played at an Australian Open and ties the record for most in a major with the 1983 US Open.\\\\n His first-serve percentage dipped from 86% in the first set to 50% by the third, and he netted 15 unforced errors as Sinner eventually broke in the 10th game of the set, winning it 6-4.\\\\n\"}]' name='tavily_search_results_json' id='63ea6c1f-1892-40f1-921d-c25ba0c49dbc' tool_call_id='call_6ghs7fwb'\n",
      "content=\"Based on the search results, it appears that the Australian Open tennis tournament has recently concluded, with Jannik Sinner winning his first major title by defeating Stefanos Tsitsipas in a tightly contested final match. The result was a five-set thriller, with Sinner eventually emerging victorious after being down two sets to one.\\n\\nSinner, who had a strong showing at the tournament, winning 6-5 of his matches and only losing one set throughout, has become Australia's first Grand Slam champion since Chris Evert in the women category as well as since Roy Emerson in men's titles according to the past recent Grand Slam history records.\" response_metadata={'token_usage': {'completion_tokens': 130, 'prompt_tokens': 977, 'total_tokens': 1107}, 'model_name': 'llama3.1:8b-instruct-fp16', 'system_fingerprint': 'fp_ollama', 'finish_reason': 'stop', 'logprobs': None} id='run-99f4b72f-de68-4c4f-9e30-d1d17e7eda58-0' usage_metadata={'input_tokens': 977, 'output_tokens': 130, 'total_tokens': 1107}\n",
      "content=\"Identify the current tournament champion's name\" id='181e732f-3958-49d8-94be-f069d07268c1'\n",
      "content='{\"name\": \"tavily_search_results_json\", \"parameters\": {\"query\": \"current Australian Open champion 2024\".replace(\" \",\"+\")}}' response_metadata={'token_usage': {'completion_tokens': 32, 'prompt_tokens': 1254, 'total_tokens': 1286}, 'model_name': 'llama3.1:8b-instruct-fp16', 'system_fingerprint': 'fp_ollama', 'finish_reason': 'stop', 'logprobs': None} id='run-9aeece38-6369-4959-a94e-ba1d75a21182-0' usage_metadata={'input_tokens': 1254, 'output_tokens': 32, 'total_tokens': 1286}\n",
      "Task 1 has been executed\n",
      "content='Search for recent Australia Open tennis tournament information' id='dd00bfa7-8be4-42ea-b226-3fcd02f1e350'\n",
      "content='' additional_kwargs={'tool_calls': [{'id': 'call_6ghs7fwb', 'function': {'arguments': '{\"query\":\"Australia Open tennis recently results\"}', 'name': 'tavily_search_results_json'}, 'type': 'function'}]} response_metadata={'token_usage': {'completion_tokens': 25, 'prompt_tokens': 185, 'total_tokens': 210}, 'model_name': 'llama3.1:8b-instruct-fp16', 'system_fingerprint': 'fp_ollama', 'finish_reason': 'tool_calls', 'logprobs': None} id='run-9740869d-f964-4e90-bc83-0f88c13007f1-0' tool_calls=[{'name': 'tavily_search_results_json', 'args': {'query': 'Australia Open tennis recently results'}, 'id': 'call_6ghs7fwb', 'type': 'tool_call'}] usage_metadata={'input_tokens': 185, 'output_tokens': 25, 'total_tokens': 210}\n",
      "content='[{\"url\": \"https://www.foxsports.com.au/tennis/australian-open\", \"content\": \"Australian Open 2024 tennis championship news. Latest in Australian Open tennis results, live scores & news on tennis players & matches at FOX SPORTS.\"}, {\"url\": \"https://www.abc.net.au/news/2023-01-29/live-updates-australian-open-men-final-djokovic-tsitsipas/101904984\", \"content\": \"More from ABC\\\\nEditorial Policies\\\\nSport\\\\nNovak Djokovic wins 10th Australian Open men\\'s singles title by defeating Stefanos Tsitsipas, ties Rafael Nadal\\'s 22 slam titles\\\\nSportNovak Djokovic wins 10th Australian Open men\\'s singles title by defeating Stefanos Tsitsipas, ties Rafael Nadal\\'s 22 slam titles\\\\nNovak Djokovic has won his 10th Australian Open title and equalled Rafael Nadal\\'s record of 22 men\\'s grand slam singles titles after\\\\u00a0what he called the \\\\\"biggest victory\\\\\" of his life.\\\\n Key Events\\\\nTop Stories\\\\nPenny Wong delivers Indian Ocean strategy speech, urges China to be more transparent amid military build-up\\\\nMore than 40,000 people caught up in sulphur dioxide toxic smoke warning in Perth\\\\nWhen you weren\\'t looking, bad politics became cunningly clever politics\\\\nPrince Harry vows to continue mission to change press after settling phone-hacking lawsuit\\\\nCFA crews withdrawn from Samantha Murphy search as more detectives join case\\\\nJust In\\\\nWhat lives in your house? This Brisbane trio discovered more than 1,000 species in theirs\\\\n\\'Lucky\\' tenant says public housing saved his life and countless more as questions raised over $10 billion fund\\\\nWhen you weren\\'t looking, bad politics became cunningly clever politics\\\\nAcclaimed Japanese conductor Seiji Ozawa dies aged 88\\\\nFooter\\\\nWe acknowledge Aboriginal and Torres Strait Islander peoples as the First Australians and Traditional Custodians of the lands where we live, learn, and work.\\\\n A loss would be character building for Novak.\\\\n- Susan\\\\nDjokovic *5-5 Tsitsipas, 6-3, 7-6\\\\nBy Simon Smale\\\\nAnother stupid shout from someone in the crowd puts Djokovic off and he walks away as the umpire tells everyone again not to shout as players are about to serve.\\\\n A perfect 10\\\\nBy Simon Smale\\\\nWhat a difference a year makes\\\\nBy Simon Smale\\\\nLet\\'s remember, last year Novak Djokovic had been kicked out of Australia and was watching on at home as Rafael Nadal won a stunning title of his own.\\\\n\"}, {\"url\": \"https://www.espn.com/tennis/story/_/id/39407873/jannik-sinner-wins-australian-open-claims-first-major-title\", \"content\": \"Editor\\'s Picks\\\\nHow Sinner fought back to win his first Australian Open title61dJake Michaels\\\\nAs it happened: Sinner comes from two sets down to win Australian Open61dESPN\\\\nHow Aryna Sabalenka won her second Australian Open title in a row62dJake Michaels\\\\nThe Russian played with pace and aggression early -- dictating terms to Sinner and hitting 14 winners to the Italian\\'s five in an opening set that flew by in 36 minutes.\\\\n Medvedev held to love before putting Sinner again on the back foot, breaking for a 3-1 lead on the way to taking the second set after the pair exchanged a break each later in the stanza.\\\\n Sinner was wayward, sending balls long or missing wide, which was in total contrast to the six matches prior to the final in which he gave up just the one set -- in the semifinal to Novak Djokovic.\\\\n With the final going the distance, it sets a record for the most five-set matches played at an Australian Open and ties the record for most in a major with the 1983 US Open.\\\\n His first-serve percentage dipped from 86% in the first set to 50% by the third, and he netted 15 unforced errors as Sinner eventually broke in the 10th game of the set, winning it 6-4.\\\\n\"}]' name='tavily_search_results_json' id='63ea6c1f-1892-40f1-921d-c25ba0c49dbc' tool_call_id='call_6ghs7fwb'\n",
      "content=\"Based on the search results, it appears that the Australian Open tennis tournament has recently concluded, with Jannik Sinner winning his first major title by defeating Stefanos Tsitsipas in a tightly contested final match. The result was a five-set thriller, with Sinner eventually emerging victorious after being down two sets to one.\\n\\nSinner, who had a strong showing at the tournament, winning 6-5 of his matches and only losing one set throughout, has become Australia's first Grand Slam champion since Chris Evert in the women category as well as since Roy Emerson in men's titles according to the past recent Grand Slam history records.\" response_metadata={'token_usage': {'completion_tokens': 130, 'prompt_tokens': 977, 'total_tokens': 1107}, 'model_name': 'llama3.1:8b-instruct-fp16', 'system_fingerprint': 'fp_ollama', 'finish_reason': 'stop', 'logprobs': None} id='run-99f4b72f-de68-4c4f-9e30-d1d17e7eda58-0' usage_metadata={'input_tokens': 977, 'output_tokens': 130, 'total_tokens': 1107}\n",
      "content=\"Identify the current tournament champion's name\" id='181e732f-3958-49d8-94be-f069d07268c1'\n",
      "content='{\"name\": \"tavily_search_results_json\", \"parameters\": {\"query\": \"current Australian Open champion 2024\".replace(\" \",\"+\")}}' response_metadata={'token_usage': {'completion_tokens': 32, 'prompt_tokens': 1254, 'total_tokens': 1286}, 'model_name': 'llama3.1:8b-instruct-fp16', 'system_fingerprint': 'fp_ollama', 'finish_reason': 'stop', 'logprobs': None} id='run-9aeece38-6369-4959-a94e-ba1d75a21182-0' usage_metadata={'input_tokens': 1254, 'output_tokens': 32, 'total_tokens': 1286}\n",
      "content='Look up brief biographical information on this player' id='a4e3f92a-4eb5-48a8-9056-528899d094c8'\n",
      "content='' additional_kwargs={'tool_calls': [{'id': 'call_pm80s4kj', 'function': {'arguments': '{\"query\":\"Jannik Sinner Australian Open champion biography\"}', 'name': 'tavily_search_results_json'}, 'type': 'function'}]} response_metadata={'token_usage': {'completion_tokens': 30, 'prompt_tokens': 1304, 'total_tokens': 1334}, 'model_name': 'llama3.1:8b-instruct-fp16', 'system_fingerprint': 'fp_ollama', 'finish_reason': 'tool_calls', 'logprobs': None} id='run-366badc4-74ba-4308-b212-107adf832216-0' tool_calls=[{'name': 'tavily_search_results_json', 'args': {'query': 'Jannik Sinner Australian Open champion biography'}, 'id': 'call_pm80s4kj', 'type': 'tool_call'}] usage_metadata={'input_tokens': 1304, 'output_tokens': 30, 'total_tokens': 1334}\n",
      "content='[{\"url\": \"https://www.atptour.com/en/players/enwiki/S0AG/bio\", \"content\": \"Official tennis bio information on Jannik Sinner including personal and professional info. ... At 2024 Australian Open, defeated 10-time champion Djokovic in SF and rallied from two sets down in final against Medvedev to win his 1st Grand Slam title. Became 1st player to beat Djokovic in SF or later at the tournament.\"}, {\"url\": \"https://www.britannica.com/biography/Jannik-Sinner\", \"content\": \"Jannik Sinner (born August 16, 2001, San Candido, Italy) is an Italian tennis player who is a leading star in the generation of players rising in the wake of the indomitable Big Three (Novak Djokovic, Roger Federer, and Rafael Nadal).In 2024 he won his first major, at the Australian Open, and attained the number one ranking on the men\\'s ATP (Association of Tennis Professionals) tour.\"}, {\"url\": \"https://www.atptour.com/en/news/sinner-australian-open-2024-champion-longform-feature\", \"content\": \"Learn about the journey of Jannik Sinner, who transformed from a skiing sensation to a Grand Slam champion, in an immersive longform feature. The Italian lifted his first major trophy at the Australian Open, where he defeated Novak Djokovic and Daniil Medvedev en route to the title.\"}]' name='tavily_search_results_json' id='21782273-b1d4-4de6-b948-7fa4709c85c3' tool_call_id='call_pm80s4kj'\n",
      "content='Jannik Sinner is an Italian tennis player born on August 16, 2001, in San Candido, Italy. He won his first Grand Slam title at the 2024 Australian Open, defeating Novak Djokovic and Daniil Medvedev en route to the championship.' response_metadata={'token_usage': {'completion_tokens': 61, 'prompt_tokens': 1530, 'total_tokens': 1591}, 'model_name': 'llama3.1:8b-instruct-fp16', 'system_fingerprint': 'fp_ollama', 'finish_reason': 'stop', 'logprobs': None} id='run-e3beaf85-4399-4c1c-a56f-c1e176df63be-0' usage_metadata={'input_tokens': 1530, 'output_tokens': 61, 'total_tokens': 1591}\n",
      "Task 2 has been executed\n",
      "content='Search for recent Australia Open tennis tournament information' id='dd00bfa7-8be4-42ea-b226-3fcd02f1e350'\n",
      "content='' additional_kwargs={'tool_calls': [{'id': 'call_6ghs7fwb', 'function': {'arguments': '{\"query\":\"Australia Open tennis recently results\"}', 'name': 'tavily_search_results_json'}, 'type': 'function'}]} response_metadata={'token_usage': {'completion_tokens': 25, 'prompt_tokens': 185, 'total_tokens': 210}, 'model_name': 'llama3.1:8b-instruct-fp16', 'system_fingerprint': 'fp_ollama', 'finish_reason': 'tool_calls', 'logprobs': None} id='run-9740869d-f964-4e90-bc83-0f88c13007f1-0' tool_calls=[{'name': 'tavily_search_results_json', 'args': {'query': 'Australia Open tennis recently results'}, 'id': 'call_6ghs7fwb', 'type': 'tool_call'}] usage_metadata={'input_tokens': 185, 'output_tokens': 25, 'total_tokens': 210}\n",
      "content='[{\"url\": \"https://www.foxsports.com.au/tennis/australian-open\", \"content\": \"Australian Open 2024 tennis championship news. Latest in Australian Open tennis results, live scores & news on tennis players & matches at FOX SPORTS.\"}, {\"url\": \"https://www.abc.net.au/news/2023-01-29/live-updates-australian-open-men-final-djokovic-tsitsipas/101904984\", \"content\": \"More from ABC\\\\nEditorial Policies\\\\nSport\\\\nNovak Djokovic wins 10th Australian Open men\\'s singles title by defeating Stefanos Tsitsipas, ties Rafael Nadal\\'s 22 slam titles\\\\nSportNovak Djokovic wins 10th Australian Open men\\'s singles title by defeating Stefanos Tsitsipas, ties Rafael Nadal\\'s 22 slam titles\\\\nNovak Djokovic has won his 10th Australian Open title and equalled Rafael Nadal\\'s record of 22 men\\'s grand slam singles titles after\\\\u00a0what he called the \\\\\"biggest victory\\\\\" of his life.\\\\n Key Events\\\\nTop Stories\\\\nPenny Wong delivers Indian Ocean strategy speech, urges China to be more transparent amid military build-up\\\\nMore than 40,000 people caught up in sulphur dioxide toxic smoke warning in Perth\\\\nWhen you weren\\'t looking, bad politics became cunningly clever politics\\\\nPrince Harry vows to continue mission to change press after settling phone-hacking lawsuit\\\\nCFA crews withdrawn from Samantha Murphy search as more detectives join case\\\\nJust In\\\\nWhat lives in your house? This Brisbane trio discovered more than 1,000 species in theirs\\\\n\\'Lucky\\' tenant says public housing saved his life and countless more as questions raised over $10 billion fund\\\\nWhen you weren\\'t looking, bad politics became cunningly clever politics\\\\nAcclaimed Japanese conductor Seiji Ozawa dies aged 88\\\\nFooter\\\\nWe acknowledge Aboriginal and Torres Strait Islander peoples as the First Australians and Traditional Custodians of the lands where we live, learn, and work.\\\\n A loss would be character building for Novak.\\\\n- Susan\\\\nDjokovic *5-5 Tsitsipas, 6-3, 7-6\\\\nBy Simon Smale\\\\nAnother stupid shout from someone in the crowd puts Djokovic off and he walks away as the umpire tells everyone again not to shout as players are about to serve.\\\\n A perfect 10\\\\nBy Simon Smale\\\\nWhat a difference a year makes\\\\nBy Simon Smale\\\\nLet\\'s remember, last year Novak Djokovic had been kicked out of Australia and was watching on at home as Rafael Nadal won a stunning title of his own.\\\\n\"}, {\"url\": \"https://www.espn.com/tennis/story/_/id/39407873/jannik-sinner-wins-australian-open-claims-first-major-title\", \"content\": \"Editor\\'s Picks\\\\nHow Sinner fought back to win his first Australian Open title61dJake Michaels\\\\nAs it happened: Sinner comes from two sets down to win Australian Open61dESPN\\\\nHow Aryna Sabalenka won her second Australian Open title in a row62dJake Michaels\\\\nThe Russian played with pace and aggression early -- dictating terms to Sinner and hitting 14 winners to the Italian\\'s five in an opening set that flew by in 36 minutes.\\\\n Medvedev held to love before putting Sinner again on the back foot, breaking for a 3-1 lead on the way to taking the second set after the pair exchanged a break each later in the stanza.\\\\n Sinner was wayward, sending balls long or missing wide, which was in total contrast to the six matches prior to the final in which he gave up just the one set -- in the semifinal to Novak Djokovic.\\\\n With the final going the distance, it sets a record for the most five-set matches played at an Australian Open and ties the record for most in a major with the 1983 US Open.\\\\n His first-serve percentage dipped from 86% in the first set to 50% by the third, and he netted 15 unforced errors as Sinner eventually broke in the 10th game of the set, winning it 6-4.\\\\n\"}]' name='tavily_search_results_json' id='63ea6c1f-1892-40f1-921d-c25ba0c49dbc' tool_call_id='call_6ghs7fwb'\n",
      "content=\"Based on the search results, it appears that the Australian Open tennis tournament has recently concluded, with Jannik Sinner winning his first major title by defeating Stefanos Tsitsipas in a tightly contested final match. The result was a five-set thriller, with Sinner eventually emerging victorious after being down two sets to one.\\n\\nSinner, who had a strong showing at the tournament, winning 6-5 of his matches and only losing one set throughout, has become Australia's first Grand Slam champion since Chris Evert in the women category as well as since Roy Emerson in men's titles according to the past recent Grand Slam history records.\" response_metadata={'token_usage': {'completion_tokens': 130, 'prompt_tokens': 977, 'total_tokens': 1107}, 'model_name': 'llama3.1:8b-instruct-fp16', 'system_fingerprint': 'fp_ollama', 'finish_reason': 'stop', 'logprobs': None} id='run-99f4b72f-de68-4c4f-9e30-d1d17e7eda58-0' usage_metadata={'input_tokens': 977, 'output_tokens': 130, 'total_tokens': 1107}\n",
      "content=\"Identify the current tournament champion's name\" id='181e732f-3958-49d8-94be-f069d07268c1'\n",
      "content='{\"name\": \"tavily_search_results_json\", \"parameters\": {\"query\": \"current Australian Open champion 2024\".replace(\" \",\"+\")}}' response_metadata={'token_usage': {'completion_tokens': 32, 'prompt_tokens': 1254, 'total_tokens': 1286}, 'model_name': 'llama3.1:8b-instruct-fp16', 'system_fingerprint': 'fp_ollama', 'finish_reason': 'stop', 'logprobs': None} id='run-9aeece38-6369-4959-a94e-ba1d75a21182-0' usage_metadata={'input_tokens': 1254, 'output_tokens': 32, 'total_tokens': 1286}\n",
      "content='Look up brief biographical information on this player' id='a4e3f92a-4eb5-48a8-9056-528899d094c8'\n",
      "content='' additional_kwargs={'tool_calls': [{'id': 'call_pm80s4kj', 'function': {'arguments': '{\"query\":\"Jannik Sinner Australian Open champion biography\"}', 'name': 'tavily_search_results_json'}, 'type': 'function'}]} response_metadata={'token_usage': {'completion_tokens': 30, 'prompt_tokens': 1304, 'total_tokens': 1334}, 'model_name': 'llama3.1:8b-instruct-fp16', 'system_fingerprint': 'fp_ollama', 'finish_reason': 'tool_calls', 'logprobs': None} id='run-366badc4-74ba-4308-b212-107adf832216-0' tool_calls=[{'name': 'tavily_search_results_json', 'args': {'query': 'Jannik Sinner Australian Open champion biography'}, 'id': 'call_pm80s4kj', 'type': 'tool_call'}] usage_metadata={'input_tokens': 1304, 'output_tokens': 30, 'total_tokens': 1334}\n",
      "content='[{\"url\": \"https://www.atptour.com/en/players/enwiki/S0AG/bio\", \"content\": \"Official tennis bio information on Jannik Sinner including personal and professional info. ... At 2024 Australian Open, defeated 10-time champion Djokovic in SF and rallied from two sets down in final against Medvedev to win his 1st Grand Slam title. Became 1st player to beat Djokovic in SF or later at the tournament.\"}, {\"url\": \"https://www.britannica.com/biography/Jannik-Sinner\", \"content\": \"Jannik Sinner (born August 16, 2001, San Candido, Italy) is an Italian tennis player who is a leading star in the generation of players rising in the wake of the indomitable Big Three (Novak Djokovic, Roger Federer, and Rafael Nadal).In 2024 he won his first major, at the Australian Open, and attained the number one ranking on the men\\'s ATP (Association of Tennis Professionals) tour.\"}, {\"url\": \"https://www.atptour.com/en/news/sinner-australian-open-2024-champion-longform-feature\", \"content\": \"Learn about the journey of Jannik Sinner, who transformed from a skiing sensation to a Grand Slam champion, in an immersive longform feature. The Italian lifted his first major trophy at the Australian Open, where he defeated Novak Djokovic and Daniil Medvedev en route to the title.\"}]' name='tavily_search_results_json' id='21782273-b1d4-4de6-b948-7fa4709c85c3' tool_call_id='call_pm80s4kj'\n",
      "content='Jannik Sinner is an Italian tennis player born on August 16, 2001, in San Candido, Italy. He won his first Grand Slam title at the 2024 Australian Open, defeating Novak Djokovic and Daniil Medvedev en route to the championship.' response_metadata={'token_usage': {'completion_tokens': 61, 'prompt_tokens': 1530, 'total_tokens': 1591}, 'model_name': 'llama3.1:8b-instruct-fp16', 'system_fingerprint': 'fp_ollama', 'finish_reason': 'stop', 'logprobs': None} id='run-e3beaf85-4399-4c1c-a56f-c1e176df63be-0' usage_metadata={'input_tokens': 1530, 'output_tokens': 61, 'total_tokens': 1591}\n",
      "content='Select information about their hometown or birthplace' id='1dd22daf-56bb-4265-bb1e-d2f3c7003dab'\n",
      "content='' additional_kwargs={'tool_calls': [{'id': 'call_ekdxnopq', 'function': {'arguments': '{\"query\":\"Jannik Sinner hometown or birthplace\"}', 'name': 'tavily_search_results_json'}, 'type': 'function'}]} response_metadata={'token_usage': {'completion_tokens': 30, 'prompt_tokens': 1738, 'total_tokens': 1768}, 'model_name': 'llama3.1:8b-instruct-fp16', 'system_fingerprint': 'fp_ollama', 'finish_reason': 'tool_calls', 'logprobs': None} id='run-b86958ee-c1d0-46c3-9f00-bbb32aab6604-0' tool_calls=[{'name': 'tavily_search_results_json', 'args': {'query': 'Jannik Sinner hometown or birthplace'}, 'id': 'call_ekdxnopq', 'type': 'tool_call'}] usage_metadata={'input_tokens': 1738, 'output_tokens': 30, 'total_tokens': 1768}\n",
      "content='[{\"url\": \"https://www.britannica.com/biography/Jannik-Sinner\", \"content\": \"Jannik Sinner (born August 16, 2001, San Candido, Italy) is an Italian tennis player who is a leading star in the generation of players rising in the wake of the indomitable Big Three (Novak Djokovic, Roger Federer, and Rafael Nadal).In 2024 he won his first major, at the Australian Open, and attained the number one ranking on the men\\'s ATP (Association of Tennis Professionals) tour.\"}, {\"url\": \"https://www.sportskeeda.com/tennis/jannik-sinner-nationality\", \"content\": \"During the semifinal of the Cup, Sinner faced Djokovic for the third time in a row and became the first player to defeat him in a singles match. Jannik Sinner Nationality\\\\nJannik Sinner is an Italian national and was born in Innichen, a town located in the mainly German-speaking area of South Tyrol in northern Italy. A. Jannik Sinner won his maiden Masters 1000 title at the 2023 Canadian Open defeating Alex de Minaur in the straight sets of the final.\\\\n Apart from his glorious triumph at Melbourne Park in 2024, Jannik Sinner\\'s best Grand Slam performance came at the 2023 Wimbledon, where he reached the semifinals. In 2020, Sinner became the youngest player since Novak Djokovic in 2006 to reach the quarter-finals of the French Open.\"}, {\"url\": \"https://www.sportskeeda.com/tennis/jannik-sinner-parents-nationality\", \"content\": \"What is the Nationality of Jannik Sinner\\'s Parents?\\\\nBoth of Jannik Sinner\\'s parents, Siglinde Sinner and Johann Sinner are of Italian nationality.\\\\n Are Jannik Sinner\\'s Parents Italian?\\\\nJannik Sinner is lately earning the attention of the tennis fraternity with some big wins against top-ranked players in the sport. He played the longest match of the 2023 French Open, which lasted five hours and 26 minutes, against Daniel Altmaier.\\\\nWith his incredible performance, Jannik Sinner made Italy lift the 2023 Davis Cup for the second time after 47 years since 1976. Despite initial modest achievements as a junior player, Sinner made his mark by entering professional tournaments at the age of 16 and became one of the select few to secure multiple ATP Challenger Tour titles by the age of 17. Siglinde Sinner and Johann Sinner are proud parents of Jannik Sinner, who was born on August 16, 2001, in Innichen, Italy.\\\\n\"}]' name='tavily_search_results_json' id='16a46621-f283-4339-abe5-fb7ebe9bdb8f' tool_call_id='call_ekdxnopq'\n",
      "content=\"Jannik Sinner's hometown or birthplace is:\\n\\n* San Candido, Italy (according to Britannica)\\n* Innichen, a town located in the mainly German-speaking area of South Tyrol in northern Italy. \\n\\nHis parents are Italian nationals.\" response_metadata={'token_usage': {'completion_tokens': 53, 'prompt_tokens': 1294, 'total_tokens': 1347}, 'model_name': 'llama3.1:8b-instruct-fp16', 'system_fingerprint': 'fp_ollama', 'finish_reason': 'stop', 'logprobs': None} id='run-98b6c4ab-9663-415b-a598-2f876291eff8-0' usage_metadata={'input_tokens': 1294, 'output_tokens': 53, 'total_tokens': 1347}\n",
      "Task 3 has been executed\n",
      "content='Search for recent Australia Open tennis tournament information' id='dd00bfa7-8be4-42ea-b226-3fcd02f1e350'\n",
      "content='' additional_kwargs={'tool_calls': [{'id': 'call_6ghs7fwb', 'function': {'arguments': '{\"query\":\"Australia Open tennis recently results\"}', 'name': 'tavily_search_results_json'}, 'type': 'function'}]} response_metadata={'token_usage': {'completion_tokens': 25, 'prompt_tokens': 185, 'total_tokens': 210}, 'model_name': 'llama3.1:8b-instruct-fp16', 'system_fingerprint': 'fp_ollama', 'finish_reason': 'tool_calls', 'logprobs': None} id='run-9740869d-f964-4e90-bc83-0f88c13007f1-0' tool_calls=[{'name': 'tavily_search_results_json', 'args': {'query': 'Australia Open tennis recently results'}, 'id': 'call_6ghs7fwb', 'type': 'tool_call'}] usage_metadata={'input_tokens': 185, 'output_tokens': 25, 'total_tokens': 210}\n",
      "content='[{\"url\": \"https://www.foxsports.com.au/tennis/australian-open\", \"content\": \"Australian Open 2024 tennis championship news. Latest in Australian Open tennis results, live scores & news on tennis players & matches at FOX SPORTS.\"}, {\"url\": \"https://www.abc.net.au/news/2023-01-29/live-updates-australian-open-men-final-djokovic-tsitsipas/101904984\", \"content\": \"More from ABC\\\\nEditorial Policies\\\\nSport\\\\nNovak Djokovic wins 10th Australian Open men\\'s singles title by defeating Stefanos Tsitsipas, ties Rafael Nadal\\'s 22 slam titles\\\\nSportNovak Djokovic wins 10th Australian Open men\\'s singles title by defeating Stefanos Tsitsipas, ties Rafael Nadal\\'s 22 slam titles\\\\nNovak Djokovic has won his 10th Australian Open title and equalled Rafael Nadal\\'s record of 22 men\\'s grand slam singles titles after\\\\u00a0what he called the \\\\\"biggest victory\\\\\" of his life.\\\\n Key Events\\\\nTop Stories\\\\nPenny Wong delivers Indian Ocean strategy speech, urges China to be more transparent amid military build-up\\\\nMore than 40,000 people caught up in sulphur dioxide toxic smoke warning in Perth\\\\nWhen you weren\\'t looking, bad politics became cunningly clever politics\\\\nPrince Harry vows to continue mission to change press after settling phone-hacking lawsuit\\\\nCFA crews withdrawn from Samantha Murphy search as more detectives join case\\\\nJust In\\\\nWhat lives in your house? This Brisbane trio discovered more than 1,000 species in theirs\\\\n\\'Lucky\\' tenant says public housing saved his life and countless more as questions raised over $10 billion fund\\\\nWhen you weren\\'t looking, bad politics became cunningly clever politics\\\\nAcclaimed Japanese conductor Seiji Ozawa dies aged 88\\\\nFooter\\\\nWe acknowledge Aboriginal and Torres Strait Islander peoples as the First Australians and Traditional Custodians of the lands where we live, learn, and work.\\\\n A loss would be character building for Novak.\\\\n- Susan\\\\nDjokovic *5-5 Tsitsipas, 6-3, 7-6\\\\nBy Simon Smale\\\\nAnother stupid shout from someone in the crowd puts Djokovic off and he walks away as the umpire tells everyone again not to shout as players are about to serve.\\\\n A perfect 10\\\\nBy Simon Smale\\\\nWhat a difference a year makes\\\\nBy Simon Smale\\\\nLet\\'s remember, last year Novak Djokovic had been kicked out of Australia and was watching on at home as Rafael Nadal won a stunning title of his own.\\\\n\"}, {\"url\": \"https://www.espn.com/tennis/story/_/id/39407873/jannik-sinner-wins-australian-open-claims-first-major-title\", \"content\": \"Editor\\'s Picks\\\\nHow Sinner fought back to win his first Australian Open title61dJake Michaels\\\\nAs it happened: Sinner comes from two sets down to win Australian Open61dESPN\\\\nHow Aryna Sabalenka won her second Australian Open title in a row62dJake Michaels\\\\nThe Russian played with pace and aggression early -- dictating terms to Sinner and hitting 14 winners to the Italian\\'s five in an opening set that flew by in 36 minutes.\\\\n Medvedev held to love before putting Sinner again on the back foot, breaking for a 3-1 lead on the way to taking the second set after the pair exchanged a break each later in the stanza.\\\\n Sinner was wayward, sending balls long or missing wide, which was in total contrast to the six matches prior to the final in which he gave up just the one set -- in the semifinal to Novak Djokovic.\\\\n With the final going the distance, it sets a record for the most five-set matches played at an Australian Open and ties the record for most in a major with the 1983 US Open.\\\\n His first-serve percentage dipped from 86% in the first set to 50% by the third, and he netted 15 unforced errors as Sinner eventually broke in the 10th game of the set, winning it 6-4.\\\\n\"}]' name='tavily_search_results_json' id='63ea6c1f-1892-40f1-921d-c25ba0c49dbc' tool_call_id='call_6ghs7fwb'\n",
      "content=\"Based on the search results, it appears that the Australian Open tennis tournament has recently concluded, with Jannik Sinner winning his first major title by defeating Stefanos Tsitsipas in a tightly contested final match. The result was a five-set thriller, with Sinner eventually emerging victorious after being down two sets to one.\\n\\nSinner, who had a strong showing at the tournament, winning 6-5 of his matches and only losing one set throughout, has become Australia's first Grand Slam champion since Chris Evert in the women category as well as since Roy Emerson in men's titles according to the past recent Grand Slam history records.\" response_metadata={'token_usage': {'completion_tokens': 130, 'prompt_tokens': 977, 'total_tokens': 1107}, 'model_name': 'llama3.1:8b-instruct-fp16', 'system_fingerprint': 'fp_ollama', 'finish_reason': 'stop', 'logprobs': None} id='run-99f4b72f-de68-4c4f-9e30-d1d17e7eda58-0' usage_metadata={'input_tokens': 977, 'output_tokens': 130, 'total_tokens': 1107}\n",
      "content=\"Identify the current tournament champion's name\" id='181e732f-3958-49d8-94be-f069d07268c1'\n",
      "content='{\"name\": \"tavily_search_results_json\", \"parameters\": {\"query\": \"current Australian Open champion 2024\".replace(\" \",\"+\")}}' response_metadata={'token_usage': {'completion_tokens': 32, 'prompt_tokens': 1254, 'total_tokens': 1286}, 'model_name': 'llama3.1:8b-instruct-fp16', 'system_fingerprint': 'fp_ollama', 'finish_reason': 'stop', 'logprobs': None} id='run-9aeece38-6369-4959-a94e-ba1d75a21182-0' usage_metadata={'input_tokens': 1254, 'output_tokens': 32, 'total_tokens': 1286}\n",
      "content='Look up brief biographical information on this player' id='a4e3f92a-4eb5-48a8-9056-528899d094c8'\n",
      "content='' additional_kwargs={'tool_calls': [{'id': 'call_pm80s4kj', 'function': {'arguments': '{\"query\":\"Jannik Sinner Australian Open champion biography\"}', 'name': 'tavily_search_results_json'}, 'type': 'function'}]} response_metadata={'token_usage': {'completion_tokens': 30, 'prompt_tokens': 1304, 'total_tokens': 1334}, 'model_name': 'llama3.1:8b-instruct-fp16', 'system_fingerprint': 'fp_ollama', 'finish_reason': 'tool_calls', 'logprobs': None} id='run-366badc4-74ba-4308-b212-107adf832216-0' tool_calls=[{'name': 'tavily_search_results_json', 'args': {'query': 'Jannik Sinner Australian Open champion biography'}, 'id': 'call_pm80s4kj', 'type': 'tool_call'}] usage_metadata={'input_tokens': 1304, 'output_tokens': 30, 'total_tokens': 1334}\n",
      "content='[{\"url\": \"https://www.atptour.com/en/players/enwiki/S0AG/bio\", \"content\": \"Official tennis bio information on Jannik Sinner including personal and professional info. ... At 2024 Australian Open, defeated 10-time champion Djokovic in SF and rallied from two sets down in final against Medvedev to win his 1st Grand Slam title. Became 1st player to beat Djokovic in SF or later at the tournament.\"}, {\"url\": \"https://www.britannica.com/biography/Jannik-Sinner\", \"content\": \"Jannik Sinner (born August 16, 2001, San Candido, Italy) is an Italian tennis player who is a leading star in the generation of players rising in the wake of the indomitable Big Three (Novak Djokovic, Roger Federer, and Rafael Nadal).In 2024 he won his first major, at the Australian Open, and attained the number one ranking on the men\\'s ATP (Association of Tennis Professionals) tour.\"}, {\"url\": \"https://www.atptour.com/en/news/sinner-australian-open-2024-champion-longform-feature\", \"content\": \"Learn about the journey of Jannik Sinner, who transformed from a skiing sensation to a Grand Slam champion, in an immersive longform feature. The Italian lifted his first major trophy at the Australian Open, where he defeated Novak Djokovic and Daniil Medvedev en route to the title.\"}]' name='tavily_search_results_json' id='21782273-b1d4-4de6-b948-7fa4709c85c3' tool_call_id='call_pm80s4kj'\n",
      "content='Jannik Sinner is an Italian tennis player born on August 16, 2001, in San Candido, Italy. He won his first Grand Slam title at the 2024 Australian Open, defeating Novak Djokovic and Daniil Medvedev en route to the championship.' response_metadata={'token_usage': {'completion_tokens': 61, 'prompt_tokens': 1530, 'total_tokens': 1591}, 'model_name': 'llama3.1:8b-instruct-fp16', 'system_fingerprint': 'fp_ollama', 'finish_reason': 'stop', 'logprobs': None} id='run-e3beaf85-4399-4c1c-a56f-c1e176df63be-0' usage_metadata={'input_tokens': 1530, 'output_tokens': 61, 'total_tokens': 1591}\n",
      "content='Select information about their hometown or birthplace' id='1dd22daf-56bb-4265-bb1e-d2f3c7003dab'\n",
      "content='' additional_kwargs={'tool_calls': [{'id': 'call_ekdxnopq', 'function': {'arguments': '{\"query\":\"Jannik Sinner hometown or birthplace\"}', 'name': 'tavily_search_results_json'}, 'type': 'function'}]} response_metadata={'token_usage': {'completion_tokens': 30, 'prompt_tokens': 1738, 'total_tokens': 1768}, 'model_name': 'llama3.1:8b-instruct-fp16', 'system_fingerprint': 'fp_ollama', 'finish_reason': 'tool_calls', 'logprobs': None} id='run-b86958ee-c1d0-46c3-9f00-bbb32aab6604-0' tool_calls=[{'name': 'tavily_search_results_json', 'args': {'query': 'Jannik Sinner hometown or birthplace'}, 'id': 'call_ekdxnopq', 'type': 'tool_call'}] usage_metadata={'input_tokens': 1738, 'output_tokens': 30, 'total_tokens': 1768}\n",
      "content='[{\"url\": \"https://www.britannica.com/biography/Jannik-Sinner\", \"content\": \"Jannik Sinner (born August 16, 2001, San Candido, Italy) is an Italian tennis player who is a leading star in the generation of players rising in the wake of the indomitable Big Three (Novak Djokovic, Roger Federer, and Rafael Nadal).In 2024 he won his first major, at the Australian Open, and attained the number one ranking on the men\\'s ATP (Association of Tennis Professionals) tour.\"}, {\"url\": \"https://www.sportskeeda.com/tennis/jannik-sinner-nationality\", \"content\": \"During the semifinal of the Cup, Sinner faced Djokovic for the third time in a row and became the first player to defeat him in a singles match. Jannik Sinner Nationality\\\\nJannik Sinner is an Italian national and was born in Innichen, a town located in the mainly German-speaking area of South Tyrol in northern Italy. A. Jannik Sinner won his maiden Masters 1000 title at the 2023 Canadian Open defeating Alex de Minaur in the straight sets of the final.\\\\n Apart from his glorious triumph at Melbourne Park in 2024, Jannik Sinner\\'s best Grand Slam performance came at the 2023 Wimbledon, where he reached the semifinals. In 2020, Sinner became the youngest player since Novak Djokovic in 2006 to reach the quarter-finals of the French Open.\"}, {\"url\": \"https://www.sportskeeda.com/tennis/jannik-sinner-parents-nationality\", \"content\": \"What is the Nationality of Jannik Sinner\\'s Parents?\\\\nBoth of Jannik Sinner\\'s parents, Siglinde Sinner and Johann Sinner are of Italian nationality.\\\\n Are Jannik Sinner\\'s Parents Italian?\\\\nJannik Sinner is lately earning the attention of the tennis fraternity with some big wins against top-ranked players in the sport. He played the longest match of the 2023 French Open, which lasted five hours and 26 minutes, against Daniel Altmaier.\\\\nWith his incredible performance, Jannik Sinner made Italy lift the 2023 Davis Cup for the second time after 47 years since 1976. Despite initial modest achievements as a junior player, Sinner made his mark by entering professional tournaments at the age of 16 and became one of the select few to secure multiple ATP Challenger Tour titles by the age of 17. Siglinde Sinner and Johann Sinner are proud parents of Jannik Sinner, who was born on August 16, 2001, in Innichen, Italy.\\\\n\"}]' name='tavily_search_results_json' id='16a46621-f283-4339-abe5-fb7ebe9bdb8f' tool_call_id='call_ekdxnopq'\n",
      "content=\"Jannik Sinner's hometown or birthplace is:\\n\\n* San Candido, Italy (according to Britannica)\\n* Innichen, a town located in the mainly German-speaking area of South Tyrol in northern Italy. \\n\\nHis parents are Italian nationals.\" response_metadata={'token_usage': {'completion_tokens': 53, 'prompt_tokens': 1294, 'total_tokens': 1347}, 'model_name': 'llama3.1:8b-instruct-fp16', 'system_fingerprint': 'fp_ollama', 'finish_reason': 'stop', 'logprobs': None} id='run-98b6c4ab-9663-415b-a598-2f876291eff8-0' usage_metadata={'input_tokens': 1294, 'output_tokens': 53, 'total_tokens': 1347}\n",
      "content='Review information to confirm final answer' id='fbb684d5-27cd-405a-91cd-815d0c6aff84'\n",
      "content='' additional_kwargs={'tool_calls': [{'id': 'call_pge9tfww', 'function': {'arguments': '{\"query\":\"Jannik Sinner Italian citizenship and parents\"}', 'name': 'tavily_search_results_json'}, 'type': 'function'}]} response_metadata={'token_usage': {'completion_tokens': 72, 'prompt_tokens': 1492, 'total_tokens': 1564}, 'model_name': 'llama3.1:8b-instruct-fp16', 'system_fingerprint': 'fp_ollama', 'finish_reason': 'tool_calls', 'logprobs': None} id='run-7c9d6570-eef6-4fbf-9027-e4301c81f939-0' tool_calls=[{'name': 'tavily_search_results_json', 'args': {'query': 'Jannik Sinner Italian citizenship and parents'}, 'id': 'call_pge9tfww', 'type': 'tool_call'}] usage_metadata={'input_tokens': 1492, 'output_tokens': 72, 'total_tokens': 1564}\n",
      "content='[{\"url\": \"https://aceify.me/the-ace/jannik-sinners-parents-and-brother-the-sinner-family/\", \"content\": \"Jannik Sinner\\'s parents, Johann Sinner and Siglinde Sinner, are both of Italian nationality, reflecting their roots and support for Jannik\\'s achievements. How Old Are Jannik Sinner\\'s Parents Siglinde and Johann? It is believed that they\\'re currently in their early 50s, reflecting a birth date of around 1973 - 1968.\"}, {\"url\": \"https://www.sportskeeda.com/tennis/jannik-sinner-parents-nationality\", \"content\": \"What is the Nationality of Jannik Sinner\\'s Parents?\\\\nBoth of Jannik Sinner\\'s parents, Siglinde Sinner and Johann Sinner are of Italian nationality.\\\\n Are Jannik Sinner\\'s Parents Italian?\\\\nJannik Sinner is lately earning the attention of the tennis fraternity with some big wins against top-ranked players in the sport. He played the longest match of the 2023 French Open, which lasted five hours and 26 minutes, against Daniel Altmaier.\\\\nWith his incredible performance, Jannik Sinner made Italy lift the 2023 Davis Cup for the second time after 47 years since 1976. Despite initial modest achievements as a junior player, Sinner made his mark by entering professional tournaments at the age of 16 and became one of the select few to secure multiple ATP Challenger Tour titles by the age of 17. Siglinde Sinner and Johann Sinner are proud parents of Jannik Sinner, who was born on August 16, 2001, in Innichen, Italy.\\\\n\"}, {\"url\": \"https://www.sportskeeda.com/tennis/jannik-sinner-parents\", \"content\": \"He became the first Italian man in the Open Era to get the most wins for a season, surpassing the record of Corrado Barazzutti.\\\\nJannik Sinner\\'s best Grand Slam performance was seen at the 2024 Australian Open (winner), and 2023 Wimbledon Open, where he reached the semifinals. Jannik Sinner Parents\\\\nJannik Sinner is a 22-year-old tennis sensation from Italy who finished the 2023 season on a high note with his commendable performance at the 2023 ATP Finals. The 22-year-old soon became one of Italy\\\\u2019s top junior skiers in the eight to twelve-years-old age bracket and also won a National Championship award in Giant Slalom at the age of eight. His father is a Chef in a restaurant at a Ski Lodge in Italy, and his mother worked as a waitress at the same restaurant. ALSO READ: How Tall is Jannik Sinner?\\\\nJannik Sinner Father\\\\nJohann Sinner is Jannik Sinner\\\\u2019s father.\"}]' name='tavily_search_results_json' id='030172b8-73a7-42e2-b168-0144fe7dc84f' tool_call_id='call_pge9tfww'\n",
      "content='The final answer to the original question \"Select information about their hometown or birthplace\" confirms that:\\n\\n1. Jannik Sinner:\\n    * Born on August 16, 2001.\\n    * Birthplace: San Candido, Italy (officially) / Innichen, a town located in Southern Tyrol, northern Italy,\\n2,Jannik Sinner Parent nationalities \\n    * Parents: Siglinde Sinner and Johann Sinner - both of Italian nationality.' response_metadata={'token_usage': {'completion_tokens': 99, 'prompt_tokens': 2014, 'total_tokens': 2113}, 'model_name': 'llama3.1:8b-instruct-fp16', 'system_fingerprint': 'fp_ollama', 'finish_reason': 'stop', 'logprobs': None} id='run-634d3233-fad4-49b0-b370-1bbf86c0e7f8-0' usage_metadata={'input_tokens': 2014, 'output_tokens': 99, 'total_tokens': 2113}\n",
      "Task 4 has been executed\n",
      "Node :Worker_Graph\n",
      "State :{'Done': True}\n",
      "\n",
      "\n"
     ]
    }
   ],
   "source": [
    "# Run\n",
    "input = {\"question\":\"what is the hometown of the current Australia open winner?\"}\n",
    "\n",
    "for output in Super_Graph.stream(input):\n",
    "    for key, value in output.items():\n",
    "        # Node\n",
    "        print(f\"Node :{key}\")\n",
    "        print(f\"State :{value}\")\n",
    "    print(\"\\n\")"
   ]
  },
  {
   "cell_type": "code",
   "execution_count": null,
   "metadata": {},
   "outputs": [],
   "source": []
  }
 ],
 "metadata": {
  "kernelspec": {
   "display_name": "cloudspace",
   "language": "python",
   "name": "python3"
  },
  "language_info": {
   "name": "python",
   "version": "3.10.10"
  }
 },
 "nbformat": 4,
 "nbformat_minor": 2
}
