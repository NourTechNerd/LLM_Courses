{
 "cells": [
  {
   "cell_type": "markdown",
   "metadata": {},
   "source": [
    "## Description :\n",
    "- Graph for Code Generation with Tests to validate the code generated , and we will provide Docs to help the LLM using RAG technique."
   ]
  },
  {
   "cell_type": "code",
   "execution_count": 3,
   "metadata": {},
   "outputs": [
    {
     "name": "stdout",
     "output_type": "stream",
     "text": [
      "\u001b[91mThis is red text\u001b[0m\n",
      "\u001b[92mThis is green text\u001b[0m\n",
      "\u001b[93mThis is yellow text\u001b[0m\n",
      "\u001b[94mThis is blue text\u001b[0m\n"
     ]
    }
   ],
   "source": [
    "# ANSI escape codes\n",
    "RED = \"\\033[91m\"\n",
    "GREEN = \"\\033[92m\"\n",
    "YELLOW = \"\\033[93m\"\n",
    "BLUE = \"\\033[94m\"\n",
    "RESET = \"\\033[0m\"\n",
    "\n",
    "print(f\"{RED}This is red text{RESET}\")\n",
    "print(f\"{GREEN}This is green text{RESET}\")\n",
    "print(f\"{YELLOW}This is yellow text{RESET}\")\n",
    "print(f\"{BLUE}This is blue text{RESET}\")\n"
   ]
  },
  {
   "cell_type": "markdown",
   "metadata": {},
   "source": [
    "## RAG Tool :"
   ]
  },
  {
   "cell_type": "markdown",
   "metadata": {},
   "source": [
    "### Load Our Docs :"
   ]
  },
  {
   "cell_type": "code",
   "execution_count": null,
   "metadata": {},
   "outputs": [],
   "source": [
    "from bs4 import BeautifulSoup as Soup\n",
    "from langchain_community.document_loaders.recursive_url_loader import RecursiveUrlLoader\n",
    "from langchain_text_splitters import RecursiveCharacterTextSplitter\n",
    "\n",
    "# LCEL docs \n",
    "# WebScraping of the WebPage about langchain Expressions language to counstruct our Doc\n",
    "\n",
    "url = \"https://python.langchain.com/v0.2/docs/concepts/#langchain-expression-language-lcel\"\n",
    "loader = RecursiveUrlLoader(\n",
    "    url=url, max_depth=20, extractor=lambda x: Soup(x, \"html.parser\").text\n",
    ")\n",
    "doc = loader.load()\n",
    "\n",
    "# Sort the list based on the URLs and get the text\n",
    "d_sorted = sorted(doc, key=lambda x: x.metadata[\"source\"])\n",
    "d_reversed = list(reversed(d_sorted))\n",
    "concatenated_content = \"\\n\\n\\n --- \\n\\n\\n\".join(\n",
    "    [doc.page_content for doc in d_reversed]\n",
    ")\n",
    "#print(\"🔋🔋🔋🔋🔋🔋🔋🔋🔋🔋🔋🔋🔋\")\n",
    "#print(doc[0].page_content)"
   ]
  },
  {
   "cell_type": "markdown",
   "metadata": {},
   "source": [
    "### Chunking :"
   ]
  },
  {
   "cell_type": "code",
   "execution_count": null,
   "metadata": {},
   "outputs": [],
   "source": [
    "########################################### Chunking\n",
    "def split_documents(documents):\n",
    "    text_splitter = RecursiveCharacterTextSplitter(\n",
    "        chunk_size=800,\n",
    "        chunk_overlap=80,\n",
    "        length_function=len,\n",
    "        is_separator_regex=False,\n",
    "    )\n",
    "    return text_splitter.split_documents(documents)\n",
    "\n",
    "chunks = split_documents(doc)"
   ]
  },
  {
   "cell_type": "code",
   "execution_count": null,
   "metadata": {},
   "outputs": [],
   "source": [
    "chunks"
   ]
  },
  {
   "cell_type": "markdown",
   "metadata": {},
   "source": [
    "### Embedding :"
   ]
  },
  {
   "cell_type": "code",
   "execution_count": 8,
   "metadata": {},
   "outputs": [],
   "source": [
    "from langchain_community.embeddings.ollama import OllamaEmbeddings\n",
    "\n",
    "def Embedding_function():\n",
    "    embeddings = OllamaEmbeddings(model=\"nomic-embed-text:v1.5\",show_progress =True)\n",
    "    return embeddings"
   ]
  },
  {
   "cell_type": "markdown",
   "metadata": {},
   "source": [
    "### Create Chroma DataBase:"
   ]
  },
  {
   "cell_type": "code",
   "execution_count": null,
   "metadata": {},
   "outputs": [],
   "source": [
    "import os\n",
    "import shutil\n",
    "from langchain_community.vectorstores import Chroma"
   ]
  },
  {
   "cell_type": "code",
   "execution_count": null,
   "metadata": {},
   "outputs": [],
   "source": [
    "CHROMA_PATH = \"/teamspace/studios/this_studio/LLM_Courses/Pratiques/Langraph/Code Assistant/Chroma\""
   ]
  },
  {
   "cell_type": "code",
   "execution_count": null,
   "metadata": {},
   "outputs": [],
   "source": [
    "def clear_database():\n",
    "    if os.path.exists(CHROMA_PATH):\n",
    "        shutil.rmtree(CHROMA_PATH)\n",
    "        \n",
    "def save_to_chroma(chunks,Ids): \n",
    "    clear_database()\n",
    "    # Create a new DB from the chunks.\n",
    "    db = Chroma.from_documents(chunks, Embedding_function(), persist_directory=CHROMA_PATH,ids=Ids)\n",
    "    db.persist() # Forcing the Save\n",
    "    print(f\"Saved {len(chunks)} chunks to {CHROMA_PATH}.\")\n",
    "\n",
    "\n",
    "def Create_Chunks_Ids(chunks):\n",
    "    current_chunk_index = 0\n",
    "    ids = []\n",
    "    for chunk in chunks:\n",
    "        chunk.metadata[\"id\"] = f\"{current_chunk_index}\"\n",
    "        ids.append(f\"{current_chunk_index}\")\n",
    "        current_chunk_index+=1\n",
    "    return chunks,ids"
   ]
  },
  {
   "cell_type": "code",
   "execution_count": null,
   "metadata": {},
   "outputs": [],
   "source": [
    "chunks,ids = Create_Chunks_Ids(chunks)\n",
    "chunks[10]"
   ]
  },
  {
   "cell_type": "code",
   "execution_count": null,
   "metadata": {},
   "outputs": [],
   "source": [
    "save_to_chroma(chunks,ids)"
   ]
  },
  {
   "cell_type": "markdown",
   "metadata": {},
   "source": [
    "### Searching for relevent chunks:"
   ]
  },
  {
   "cell_type": "code",
   "execution_count": null,
   "metadata": {},
   "outputs": [],
   "source": [
    "def Get_Context(Question):\n",
    "    # Searching for Relevent Chunks from DataBase\n",
    "    results = db.similarity_search_with_relevance_scores(Question,k=3)\n",
    "    context_text = \"\\n\\n---\\n\\n\".join([chunk.page_content for chunk, _score in results])\n",
    "    return context_text"
   ]
  },
  {
   "cell_type": "code",
   "execution_count": null,
   "metadata": {},
   "outputs": [],
   "source": [
    "db = Chroma(persist_directory=CHROMA_PATH, embedding_function=Embedding_function())"
   ]
  },
  {
   "cell_type": "code",
   "execution_count": null,
   "metadata": {},
   "outputs": [],
   "source": [
    "question = \"How can I use a prompt and model to create a chain in LCEL that returns raw ChatMessages?\"\n",
    "context = Get_Context(question)\n",
    "print(context)"
   ]
  },
  {
   "cell_type": "markdown",
   "metadata": {},
   "source": [
    "## Initialize the Graph :"
   ]
  },
  {
   "cell_type": "code",
   "execution_count": 4,
   "metadata": {},
   "outputs": [],
   "source": [
    "from typing import Annotated\n",
    "from typing_extensions import TypedDict\n",
    "from langgraph.graph import StateGraph, START\n",
    "from langgraph.graph.message import add_messages"
   ]
  },
  {
   "cell_type": "code",
   "execution_count": 5,
   "metadata": {},
   "outputs": [],
   "source": [
    "class State(TypedDict):\n",
    "    messages: Annotated[list, add_messages]\n",
    "\n",
    "\n",
    "graph_builder = StateGraph(State)"
   ]
  },
  {
   "cell_type": "markdown",
   "metadata": {},
   "source": [
    "## RAG Node :"
   ]
  },
  {
   "cell_type": "code",
   "execution_count": 9,
   "metadata": {},
   "outputs": [],
   "source": [
    "import os\n",
    "import shutil\n",
    "from langchain_community.vectorstores import Chroma"
   ]
  },
  {
   "cell_type": "code",
   "execution_count": 10,
   "metadata": {},
   "outputs": [],
   "source": [
    "CHROMA_PATH = \"/teamspace/studios/this_studio/LLM_Courses/Pratiques/Langraph/Code Assistant/Chroma\"\n",
    "db = Chroma(persist_directory=CHROMA_PATH, embedding_function=Embedding_function())"
   ]
  },
  {
   "cell_type": "code",
   "execution_count": 11,
   "metadata": {},
   "outputs": [],
   "source": [
    "from langchain_core.tools import StructuredTool\n",
    "from langchain.pydantic_v1 import BaseModel, Field\n",
    "\n",
    "class RAG_Arg(BaseModel):\n",
    "    query: str = Field(...,description=\"The query to use in searching for relevent information from  a the Database of information about LCEL\")\n",
    "\n",
    "def Get_Context(query:str)-> str:\n",
    "    # Searching for Relevent Chunks from DataBase\n",
    "    results = db.similarity_search_with_relevance_scores(query,k=3)\n",
    "    context_text = \"\\n\\n---\\n\\n\".join([chunk.page_content for chunk, _score in results])\n",
    "    return context_text\n",
    "\n",
    "RAG_System = StructuredTool.from_function(\n",
    "    func=Get_Context,\n",
    "    name=\"RAG System\",\n",
    "    description=\"This tool give a good informations about Langchain Expressions Launguage from the Documentation of Langchain Faramwork\",\n",
    "    args_schema=RAG_Arg,\n",
    "    return_direct=False,\n",
    ")\n"
   ]
  },
  {
   "cell_type": "code",
   "execution_count": 12,
   "metadata": {},
   "outputs": [],
   "source": [
    "from langchain_core.messages import ToolMessage\n",
    "\n",
    "def Get_AIMessage(state:State):\n",
    "    messages = state.get(\"messages\", []) \n",
    "    # .get : Return the value associeted to the key \"messages\" if the key not exist it returns an empty list\n",
    "    if messages:\n",
    "        message = messages[-1]\n",
    "        # message is the last in messages list.\n",
    "    return message\n",
    "\n",
    "def RAG_function(state:State,tool = RAG_System):\n",
    "    message = Get_AIMessage(state)\n",
    "        \n",
    "    Tool_call = message.tool_calls[0]\n",
    "    print(\"Tofv ndnfvn    \",Tool_call.keys())\n",
    "    # Execute the Tool called by the LLM\n",
    "    Tool_arguments = Tool_call[\"args\"]\n",
    "    Tool_Name = Tool_call[\"name\"]\n",
    "    print(f\"⚙️{YELLOW} {Tool_Name} is Executing{RESET}\")\n",
    "    \n",
    "    Tool_result = tool.invoke(Tool_arguments)\n",
    "    Tool_Message =  ToolMessage(content=Tool_result,name=Tool_call[\"name\"],tool_call_id=Tool_call[\"id\"])\n",
    "    \n",
    "    return {\"messages\": Tool_Message}\n"
   ]
  },
  {
   "cell_type": "markdown",
   "metadata": {},
   "source": [
    "## LLM Node :"
   ]
  },
  {
   "cell_type": "code",
   "execution_count": 13,
   "metadata": {},
   "outputs": [],
   "source": [
    "from langchain_openai import ChatOpenAI"
   ]
  },
  {
   "cell_type": "code",
   "execution_count": 14,
   "metadata": {},
   "outputs": [],
   "source": [
    "tools = [RAG_System]\n",
    "llm = ChatOpenAI(api_key=\"ollama\",model=\"llama3-groq-tool-use:8b\",base_url=\"http://localhost:11434/v1\")\n",
    "llm_with_tools = llm.bind_tools(tools)"
   ]
  },
  {
   "cell_type": "code",
   "execution_count": 15,
   "metadata": {},
   "outputs": [],
   "source": [
    "def LLM_function(state: State):\n",
    "    #print(\"Sate :\",state)\n",
    "    #print(f\"State Messages : \",state[\"messages\"])\n",
    "    print(f\"{BLUE}State messages :{RESET}\",state[\"messages\"])\n",
    "    print(f\"💡{GREEN}LLM is Thinking !{RESET}\")\n",
    "    \n",
    "    prompt = state[\"messages\"] # List of Messages\n",
    "    response = llm_with_tools.invoke(prompt)\n",
    "    return {\"messages\": [response]}"
   ]
  },
  {
   "cell_type": "markdown",
   "metadata": {},
   "source": [
    "## Design The Graph :"
   ]
  },
  {
   "cell_type": "code",
   "execution_count": 16,
   "metadata": {},
   "outputs": [],
   "source": [
    "graph_builder.add_node(\"LLM\", LLM_function)\n",
    "graph_builder.add_node(\"RAG System\", RAG_function)"
   ]
  },
  {
   "cell_type": "code",
   "execution_count": 17,
   "metadata": {},
   "outputs": [],
   "source": [
    "def Condition_Function(state: State):\n",
    "    messages = state.get(\"messages\", [])\n",
    "    if messages : # check that messages is not an empty list\n",
    "        ai_message = messages[-1]\n",
    "    else:\n",
    "        raise ValueError(f\"No messages found in State: {state}\")\n",
    "    if hasattr(ai_message, \"tool_calls\") and len(ai_message.tool_calls) > 0: # Check if the LLM ask for a tool\n",
    "        \n",
    "        for tool_call in ai_message.tool_calls:\n",
    "            if tool_call['name'] == \"RAG System\":\n",
    "                return \"RAG System\"\n",
    "    return \"__end__\"\n"
   ]
  },
  {
   "cell_type": "code",
   "execution_count": 18,
   "metadata": {},
   "outputs": [],
   "source": [
    "graph_builder.add_edge(START, \"LLM\")\n",
    "graph_builder.add_edge(\"RAG System\",\"LLM\")\n",
    "graph_builder.add_conditional_edges(\"LLM\",Condition_Function)"
   ]
  },
  {
   "cell_type": "code",
   "execution_count": 19,
   "metadata": {},
   "outputs": [],
   "source": [
    "from langgraph.checkpoint.sqlite import SqliteSaver\n",
    "\n",
    "memory = SqliteSaver.from_conn_string(\":memory:\")"
   ]
  },
  {
   "cell_type": "code",
   "execution_count": 20,
   "metadata": {},
   "outputs": [],
   "source": [
    "graph = graph_builder.compile(checkpointer=memory)"
   ]
  },
  {
   "cell_type": "markdown",
   "metadata": {},
   "source": [
    "## Visualize the Graph :"
   ]
  },
  {
   "cell_type": "code",
   "execution_count": 21,
   "metadata": {},
   "outputs": [
    {
     "data": {
      "image/jpeg": "[encoded data removed]",
      "text/plain": [
       "<IPython.core.display.Image object>"
      ]
     },
     "metadata": {},
     "output_type": "display_data"
    }
   ],
   "source": [
    "from IPython.display import Image, display\n",
    "\n",
    "try:\n",
    "    display(Image(graph.get_graph().draw_mermaid_png()))\n",
    "except Exception:\n",
    "    # This requires some extra dependencies and is optional\n",
    "    pass"
   ]
  },
  {
   "cell_type": "markdown",
   "metadata": {},
   "source": [
    "## Interact with the Graph :"
   ]
  },
  {
   "cell_type": "code",
   "execution_count": 28,
   "metadata": {},
   "outputs": [],
   "source": [
    "from langchain_core.messages import HumanMessage, SystemMessage"
   ]
  },
  {
   "cell_type": "code",
   "execution_count": 32,
   "metadata": {},
   "outputs": [
    {
     "name": "stdout",
     "output_type": "stream",
     "text": [
      "================================\u001b[1m Human Message \u001b[0m=================================\n",
      "\n",
      "How can I use a prompt and model to create a chain in LCEL that returns raw ChatMessages?, Give me the Code , The Prompt = Dogs aginst Chats, The Model is llama3 with Ollama server\n",
      "\u001b[94mState messages :\u001b[0m [SystemMessage(content='You are Code Assistent Bot have a strong Knowledge about Langchain exepression Language and you can use tools that can help you', id='f2303565-641f-4585-a472-60a53f06a893'), HumanMessage(content='hi!', id='2f301cc3-5d1b-4465-bf4b-e5c4a95af9bb'), AIMessage(content='Hello! How can I assist you today?', response_metadata={'token_usage': {'completion_tokens': 10, 'prompt_tokens': 208, 'total_tokens': 218}, 'model_name': 'llama3-groq-tool-use:8b', 'system_fingerprint': 'fp_ollama', 'finish_reason': 'stop', 'logprobs': None}, id='run-12296008-71a5-46af-be54-eb5870d018c3-0', usage_metadata={'input_tokens': 208, 'output_tokens': 10, 'total_tokens': 218}), SystemMessage(content='You are Code Assistent Bot have a strong Knowledge about Langchain exepression Language and you can use tools that can help you', id='c9205bf3-6bff-4c7e-a132-7f5727a93cce'), HumanMessage(content='How can I use a prompt and model to create a chain in LCEL that returns raw ChatMessages?', id='ce42c607-750f-4b49-be75-b3e8689c8bc0'), AIMessage(content=\"To create a chain of prompts and models for generating raw Chat Messages using Langchain Expressions Language, you'll need to construct a query string. Could you provide me with the specifics of your prompt and desired output?\", response_metadata={'token_usage': {'completion_tokens': 44, 'prompt_tokens': 275, 'total_tokens': 319}, 'model_name': 'llama3-groq-tool-use:8b', 'system_fingerprint': 'fp_ollama', 'finish_reason': 'stop', 'logprobs': None}, id='run-e566ca92-7849-4d90-9d07-eafdc4f8f840-0', usage_metadata={'input_tokens': 275, 'output_tokens': 44, 'total_tokens': 319}), SystemMessage(content='You are Code Assistent Bot have a strong Knowledge about Langchain exepression Language and you can use tools that can help you', id='f696949a-bd55-4373-8beb-59825ffd7dfd'), HumanMessage(content='How can I use a prompt and model to create a chain in LCEL that returns raw ChatMessages?, Give me the Code', id='d5931ed2-6d1e-4080-99c5-3013a1bd12e9'), AIMessage(content=\"To assist you accurately, could you specify the exact prompt you wish to use and the model you'd like to leverage for generating these raw Chat Messages?\", response_metadata={'token_usage': {'completion_tokens': 31, 'prompt_tokens': 380, 'total_tokens': 411}, 'model_name': 'llama3-groq-tool-use:8b', 'system_fingerprint': 'fp_ollama', 'finish_reason': 'stop', 'logprobs': None}, id='run-c53c4a5d-73b5-4bf0-86f1-628397592d2c-0', usage_metadata={'input_tokens': 380, 'output_tokens': 31, 'total_tokens': 411}), SystemMessage(content='You are Code Assistent Bot have a strong Knowledge about Langchain exepression Language and you can use tools that can help you', id='7dfd83b5-76cf-41a3-98f3-b9cc7dd02e7b'), HumanMessage(content='How can I use a prompt and model to create a chain in LCEL that returns raw ChatMessages?, Give me the Code , The Prompt = Dogs aginst Chats, The Model is llama3 with Ollama server', id='d77997d8-449e-4465-847d-5de8c876cee9')]\n",
      "💡\u001b[92mLLM is Thinking !\u001b[0m\n"
     ]
    },
    {
     "name": "stdout",
     "output_type": "stream",
     "text": [
      "==================================\u001b[1m Ai Message \u001b[0m==================================\n",
      "Tool Calls:\n",
      "  RAG System (call_haali20w)\n",
      " Call ID: call_haali20w\n",
      "  Args:\n",
      "    query: Dogs againt Chats using llama3 model on Ollama server\n",
      "Tofv ndnfvn     dict_keys(['name', 'args', 'id', 'type'])\n",
      "⚙️\u001b[93m RAG System is Executing\u001b[0m\n"
     ]
    },
    {
     "name": "stderr",
     "output_type": "stream",
     "text": [
      "OllamaEmbeddings: 100%|██████████| 1/1 [00:01<00:00,  1.52s/it]\n",
      "/home/zeus/miniconda3/envs/cloudspace/lib/python3.10/site-packages/langchain_core/vectorstores/base.py:784: UserWarning: Relevance scores must be between 0 and 1, got [(Document(metadata={'content_type': 'text/html; charset=utf-8', 'description': 'This section contains introductions to key parts of LangChain.', 'id': '25', 'language': 'en', 'source': 'https://python.langchain.com/v0.2/docs/concepts/#langchain-expression-language-lcel', 'title': 'Conceptual guide | 🦜️🔗 LangChain'}, page_content='Please see the tool calling section for more information.For specifics on how to use chat models, see the relevant how-to guides here.Multimodality\\u200bSome chat models are multimodal, accepting images, audio and even video as inputs. These are still less common, meaning model providers haven\\'t standardized on the \"best\" way to define the API. Multimodal outputs are even less common. As such, we\\'ve kept our multimodal abstractions fairly light weight and plan to further solidify the multimodal APIs and interaction patterns as the field matures.In LangChain, most chat models that support multimodal inputs also accept those values in OpenAI\\'s content blocks format. So far this is restricted to image inputs. For models like Gemini which support video and other bytes input, the APIs also support'), -233.9645399418365), (Document(metadata={'content_type': 'text/html; charset=utf-8', 'description': 'This section contains introductions to key parts of LangChain.', 'id': '26', 'language': 'en', 'source': 'https://python.langchain.com/v0.2/docs/concepts/#langchain-expression-language-lcel', 'title': 'Conceptual guide | 🦜️🔗 LangChain'}, page_content='like Gemini which support video and other bytes input, the APIs also support the native, model-specific representations.For specifics on how to use multimodal models, see the relevant how-to guides here.For a full list of LangChain model providers with multimodal models, check out this table.LLMs\\u200bcautionPure text-in/text-out LLMs tend to be older or lower-level. Many popular models are best used as chat completion models,'), -236.37963932955734), (Document(metadata={'content_type': 'text/html; charset=utf-8', 'description': 'This section contains introductions to key parts of LangChain.', 'id': '23', 'language': 'en', 'source': 'https://python.langchain.com/v0.2/docs/concepts/#langchain-expression-language-lcel', 'title': 'Conceptual guide | 🦜️🔗 LangChain'}, page_content='To find all the parameters supported by a ChatModel head to the API reference for that model.infoTool Calling Some chat models have been fine-tuned for tool calling and provide a dedicated API for tool calling.'), -236.85526617782799)]\n",
      "  warnings.warn(\n"
     ]
    },
    {
     "name": "stdout",
     "output_type": "stream",
     "text": [
      "=================================\u001b[1m Tool Message \u001b[0m=================================\n",
      "Name: RAG System\n",
      "\n",
      "Please see the tool calling section for more information.For specifics on how to use chat models, see the relevant how-to guides here.Multimodality​Some chat models are multimodal, accepting images, audio and even video as inputs. These are still less common, meaning model providers haven't standardized on the \"best\" way to define the API. Multimodal outputs are even less common. As such, we've kept our multimodal abstractions fairly light weight and plan to further solidify the multimodal APIs and interaction patterns as the field matures.In LangChain, most chat models that support multimodal inputs also accept those values in OpenAI's content blocks format. So far this is restricted to image inputs. For models like Gemini which support video and other bytes input, the APIs also support\n",
      "\n",
      "---\n",
      "\n",
      "like Gemini which support video and other bytes input, the APIs also support the native, model-specific representations.For specifics on how to use multimodal models, see the relevant how-to guides here.For a full list of LangChain model providers with multimodal models, check out this table.LLMs​cautionPure text-in/text-out LLMs tend to be older or lower-level. Many popular models are best used as chat completion models,\n",
      "\n",
      "---\n",
      "\n",
      "To find all the parameters supported by a ChatModel head to the API reference for that model.infoTool Calling Some chat models have been fine-tuned for tool calling and provide a dedicated API for tool calling.\n",
      "\u001b[94mState messages :\u001b[0m [SystemMessage(content='You are Code Assistent Bot have a strong Knowledge about Langchain exepression Language and you can use tools that can help you', id='f2303565-641f-4585-a472-60a53f06a893'), HumanMessage(content='hi!', id='2f301cc3-5d1b-4465-bf4b-e5c4a95af9bb'), AIMessage(content='Hello! How can I assist you today?', response_metadata={'token_usage': {'completion_tokens': 10, 'prompt_tokens': 208, 'total_tokens': 218}, 'model_name': 'llama3-groq-tool-use:8b', 'system_fingerprint': 'fp_ollama', 'finish_reason': 'stop', 'logprobs': None}, id='run-12296008-71a5-46af-be54-eb5870d018c3-0', usage_metadata={'input_tokens': 208, 'output_tokens': 10, 'total_tokens': 218}), SystemMessage(content='You are Code Assistent Bot have a strong Knowledge about Langchain exepression Language and you can use tools that can help you', id='c9205bf3-6bff-4c7e-a132-7f5727a93cce'), HumanMessage(content='How can I use a prompt and model to create a chain in LCEL that returns raw ChatMessages?', id='ce42c607-750f-4b49-be75-b3e8689c8bc0'), AIMessage(content=\"To create a chain of prompts and models for generating raw Chat Messages using Langchain Expressions Language, you'll need to construct a query string. Could you provide me with the specifics of your prompt and desired output?\", response_metadata={'token_usage': {'completion_tokens': 44, 'prompt_tokens': 275, 'total_tokens': 319}, 'model_name': 'llama3-groq-tool-use:8b', 'system_fingerprint': 'fp_ollama', 'finish_reason': 'stop', 'logprobs': None}, id='run-e566ca92-7849-4d90-9d07-eafdc4f8f840-0', usage_metadata={'input_tokens': 275, 'output_tokens': 44, 'total_tokens': 319}), SystemMessage(content='You are Code Assistent Bot have a strong Knowledge about Langchain exepression Language and you can use tools that can help you', id='f696949a-bd55-4373-8beb-59825ffd7dfd'), HumanMessage(content='How can I use a prompt and model to create a chain in LCEL that returns raw ChatMessages?, Give me the Code', id='d5931ed2-6d1e-4080-99c5-3013a1bd12e9'), AIMessage(content=\"To assist you accurately, could you specify the exact prompt you wish to use and the model you'd like to leverage for generating these raw Chat Messages?\", response_metadata={'token_usage': {'completion_tokens': 31, 'prompt_tokens': 380, 'total_tokens': 411}, 'model_name': 'llama3-groq-tool-use:8b', 'system_fingerprint': 'fp_ollama', 'finish_reason': 'stop', 'logprobs': None}, id='run-c53c4a5d-73b5-4bf0-86f1-628397592d2c-0', usage_metadata={'input_tokens': 380, 'output_tokens': 31, 'total_tokens': 411}), SystemMessage(content='You are Code Assistent Bot have a strong Knowledge about Langchain exepression Language and you can use tools that can help you', id='7dfd83b5-76cf-41a3-98f3-b9cc7dd02e7b'), HumanMessage(content='How can I use a prompt and model to create a chain in LCEL that returns raw ChatMessages?, Give me the Code , The Prompt = Dogs aginst Chats, The Model is llama3 with Ollama server', id='d77997d8-449e-4465-847d-5de8c876cee9'), AIMessage(content='', additional_kwargs={'tool_calls': [{'id': 'call_haali20w', 'function': {'arguments': '{\"query\":\"Dogs againt Chats using llama3 model on Ollama server\"}', 'name': 'RAG System'}, 'type': 'function'}]}, response_metadata={'token_usage': {'completion_tokens': 41, 'prompt_tokens': 492, 'total_tokens': 533}, 'model_name': 'llama3-groq-tool-use:8b', 'system_fingerprint': 'fp_ollama', 'finish_reason': 'stop', 'logprobs': None}, id='run-1f19968a-52d3-48a7-9192-efe35cce2cb7-0', tool_calls=[{'name': 'RAG System', 'args': {'query': 'Dogs againt Chats using llama3 model on Ollama server'}, 'id': 'call_haali20w', 'type': 'tool_call'}], usage_metadata={'input_tokens': 492, 'output_tokens': 41, 'total_tokens': 533}), ToolMessage(content='Please see the tool calling section for more information.For specifics on how to use chat models, see the relevant how-to guides here.Multimodality\\u200bSome chat models are multimodal, accepting images, audio and even video as inputs. These are still less common, meaning model providers haven\\'t standardized on the \"best\" way to define the API. Multimodal outputs are even less common. As such, we\\'ve kept our multimodal abstractions fairly light weight and plan to further solidify the multimodal APIs and interaction patterns as the field matures.In LangChain, most chat models that support multimodal inputs also accept those values in OpenAI\\'s content blocks format. So far this is restricted to image inputs. For models like Gemini which support video and other bytes input, the APIs also support\\n\\n---\\n\\nlike Gemini which support video and other bytes input, the APIs also support the native, model-specific representations.For specifics on how to use multimodal models, see the relevant how-to guides here.For a full list of LangChain model providers with multimodal models, check out this table.LLMs\\u200bcautionPure text-in/text-out LLMs tend to be older or lower-level. Many popular models are best used as chat completion models,\\n\\n---\\n\\nTo find all the parameters supported by a ChatModel head to the API reference for that model.infoTool Calling Some chat models have been fine-tuned for tool calling and provide a dedicated API for tool calling.', name='RAG System', id='65b86321-8f10-4265-b0a7-eaefc205cbdc', tool_call_id='call_haali20w')]\n",
      "💡\u001b[92mLLM is Thinking !\u001b[0m\n",
      "==================================\u001b[1m Ai Message \u001b[0m==================================\n",
      "Tool Calls:\n",
      "   (call_m9z8azd8)\n",
      " Call ID: call_m9z8azd8\n",
      "  Args:\n"
     ]
    }
   ],
   "source": [
    "config = {\"configurable\": {\"thread_id\": \"2\"}} \n",
    "# We configurate here the id of the State to load by the graph\n",
    "\n",
    "My_Quetion = \"What is my Name , and Where I study Now ?\"\n",
    "Messages = [\n",
    "    SystemMessage(content=\"You are Code Assistent Bot have a strong Knowledge about Langchain exepression Language and you can use tools that can help you\"),\n",
    "    HumanMessage(content=\"How can I use a prompt and model to create a chain in LCEL that returns raw ChatMessages?, Give me the Code , The Prompt = Dogs aginst Chats, The Model is llama3 with Ollama server\")\n",
    "]\n",
    "Input_Message = {\"messages\": Messages}\n",
    "\n",
    "# The config is the **second positional argument** to stream() or invoke()!\n",
    "events = graph.stream(Input_Message, config, stream_mode=\"values\")\n",
    "for event in events:\n",
    "    event[\"messages\"][-1].pretty_print()"
   ]
  },
  {
   "cell_type": "code",
   "execution_count": 33,
   "metadata": {},
   "outputs": [
    {
     "data": {
      "text/plain": [
       "[SystemMessage(content='You are Code Assistent Bot have a strong Knowledge about Langchain exepression Language and you can use tools that can help you', id='f2303565-641f-4585-a472-60a53f06a893'),\n",
       " HumanMessage(content='hi!', id='2f301cc3-5d1b-4465-bf4b-e5c4a95af9bb'),\n",
       " AIMessage(content='Hello! How can I assist you today?', response_metadata={'token_usage': {'completion_tokens': 10, 'prompt_tokens': 208, 'total_tokens': 218}, 'model_name': 'llama3-groq-tool-use:8b', 'system_fingerprint': 'fp_ollama', 'finish_reason': 'stop', 'logprobs': None}, id='run-12296008-71a5-46af-be54-eb5870d018c3-0', usage_metadata={'input_tokens': 208, 'output_tokens': 10, 'total_tokens': 218}),\n",
       " SystemMessage(content='You are Code Assistent Bot have a strong Knowledge about Langchain exepression Language and you can use tools that can help you', id='c9205bf3-6bff-4c7e-a132-7f5727a93cce'),\n",
       " HumanMessage(content='How can I use a prompt and model to create a chain in LCEL that returns raw ChatMessages?', id='ce42c607-750f-4b49-be75-b3e8689c8bc0'),\n",
       " AIMessage(content=\"To create a chain of prompts and models for generating raw Chat Messages using Langchain Expressions Language, you'll need to construct a query string. Could you provide me with the specifics of your prompt and desired output?\", response_metadata={'token_usage': {'completion_tokens': 44, 'prompt_tokens': 275, 'total_tokens': 319}, 'model_name': 'llama3-groq-tool-use:8b', 'system_fingerprint': 'fp_ollama', 'finish_reason': 'stop', 'logprobs': None}, id='run-e566ca92-7849-4d90-9d07-eafdc4f8f840-0', usage_metadata={'input_tokens': 275, 'output_tokens': 44, 'total_tokens': 319}),\n",
       " SystemMessage(content='You are Code Assistent Bot have a strong Knowledge about Langchain exepression Language and you can use tools that can help you', id='f696949a-bd55-4373-8beb-59825ffd7dfd'),\n",
       " HumanMessage(content='How can I use a prompt and model to create a chain in LCEL that returns raw ChatMessages?, Give me the Code', id='d5931ed2-6d1e-4080-99c5-3013a1bd12e9'),\n",
       " AIMessage(content=\"To assist you accurately, could you specify the exact prompt you wish to use and the model you'd like to leverage for generating these raw Chat Messages?\", response_metadata={'token_usage': {'completion_tokens': 31, 'prompt_tokens': 380, 'total_tokens': 411}, 'model_name': 'llama3-groq-tool-use:8b', 'system_fingerprint': 'fp_ollama', 'finish_reason': 'stop', 'logprobs': None}, id='run-c53c4a5d-73b5-4bf0-86f1-628397592d2c-0', usage_metadata={'input_tokens': 380, 'output_tokens': 31, 'total_tokens': 411}),\n",
       " SystemMessage(content='You are Code Assistent Bot have a strong Knowledge about Langchain exepression Language and you can use tools that can help you', id='7dfd83b5-76cf-41a3-98f3-b9cc7dd02e7b'),\n",
       " HumanMessage(content='How can I use a prompt and model to create a chain in LCEL that returns raw ChatMessages?, Give me the Code , The Prompt = Dogs aginst Chats, The Model is llama3 with Ollama server', id='d77997d8-449e-4465-847d-5de8c876cee9'),\n",
       " AIMessage(content='', additional_kwargs={'tool_calls': [{'id': 'call_haali20w', 'function': {'arguments': '{\"query\":\"Dogs againt Chats using llama3 model on Ollama server\"}', 'name': 'RAG System'}, 'type': 'function'}]}, response_metadata={'token_usage': {'completion_tokens': 41, 'prompt_tokens': 492, 'total_tokens': 533}, 'model_name': 'llama3-groq-tool-use:8b', 'system_fingerprint': 'fp_ollama', 'finish_reason': 'stop', 'logprobs': None}, id='run-1f19968a-52d3-48a7-9192-efe35cce2cb7-0', tool_calls=[{'name': 'RAG System', 'args': {'query': 'Dogs againt Chats using llama3 model on Ollama server'}, 'id': 'call_haali20w', 'type': 'tool_call'}], usage_metadata={'input_tokens': 492, 'output_tokens': 41, 'total_tokens': 533}),\n",
       " ToolMessage(content='Please see the tool calling section for more information.For specifics on how to use chat models, see the relevant how-to guides here.Multimodality\\u200bSome chat models are multimodal, accepting images, audio and even video as inputs. These are still less common, meaning model providers haven\\'t standardized on the \"best\" way to define the API. Multimodal outputs are even less common. As such, we\\'ve kept our multimodal abstractions fairly light weight and plan to further solidify the multimodal APIs and interaction patterns as the field matures.In LangChain, most chat models that support multimodal inputs also accept those values in OpenAI\\'s content blocks format. So far this is restricted to image inputs. For models like Gemini which support video and other bytes input, the APIs also support\\n\\n---\\n\\nlike Gemini which support video and other bytes input, the APIs also support the native, model-specific representations.For specifics on how to use multimodal models, see the relevant how-to guides here.For a full list of LangChain model providers with multimodal models, check out this table.LLMs\\u200bcautionPure text-in/text-out LLMs tend to be older or lower-level. Many popular models are best used as chat completion models,\\n\\n---\\n\\nTo find all the parameters supported by a ChatModel head to the API reference for that model.infoTool Calling Some chat models have been fine-tuned for tool calling and provide a dedicated API for tool calling.', name='RAG System', id='65b86321-8f10-4265-b0a7-eaefc205cbdc', tool_call_id='call_haali20w'),\n",
       " AIMessage(content='', additional_kwargs={'tool_calls': [{'id': 'call_m9z8azd8', 'function': {'arguments': 'null', 'name': ''}, 'type': 'function'}]}, response_metadata={'token_usage': {'completion_tokens': 100, 'prompt_tokens': 833, 'total_tokens': 933}, 'model_name': 'llama3-groq-tool-use:8b', 'system_fingerprint': 'fp_ollama', 'finish_reason': 'stop', 'logprobs': None}, id='run-209479c5-4fcf-4211-bf68-da99d58d7410-0', tool_calls=[{'name': '', 'args': {}, 'id': 'call_m9z8azd8', 'type': 'tool_call'}], usage_metadata={'input_tokens': 833, 'output_tokens': 100, 'total_tokens': 933})]"
      ]
     },
     "execution_count": 33,
     "metadata": {},
     "output_type": "execute_result"
    }
   ],
   "source": [
    "Graph_execution = graph.get_state(config)\n",
    "Graph_execution.values[\"messages\"]"
   ]
  }
 ],
 "metadata": {
  "language_info": {
   "name": "python"
  }
 },
 "nbformat": 4,
 "nbformat_minor": 2
}
