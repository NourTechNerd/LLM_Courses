{
 "cells": [
  {
   "cell_type": "markdown",
   "metadata": {},
   "source": [
    "### Instal Ollama :\n",
    "\n",
    "curl -fsSL https://ollama.com/install.sh | sh"
   ]
  },
  {
   "cell_type": "code",
   "execution_count": null,
   "metadata": {},
   "outputs": [],
   "source": [
    "# ANSI escape codes\n",
    "RED = \"\\033[91m\"\n",
    "GREEN = \"\\033[92m\"\n",
    "YELLOW = \"\\033[93m\"\n",
    "BLUE = \"\\033[94m\"\n",
    "RESET = \"\\033[0m\"\n",
    "\n",
    "print(f\"{RED}This is red text{RESET}\")\n",
    "print(f\"{GREEN}This is green text{RESET}\")\n",
    "print(f\"{YELLOW}This is yellow text{RESET}\")\n",
    "print(f\"{BLUE}This is blue text{RESET}\")\n"
   ]
  },
  {
   "cell_type": "markdown",
   "metadata": {},
   "source": [
    "## Part1 : Graph with a single Node "
   ]
  },
  {
   "cell_type": "code",
   "execution_count": null,
   "metadata": {},
   "outputs": [],
   "source": [
    "import os"
   ]
  },
  {
   "cell_type": "code",
   "execution_count": null,
   "metadata": {},
   "outputs": [],
   "source": [
    "#os.environ[\"LANGCHAIN_TRACING_V2\"] = \"true\"\n",
    "#os.environ[\"LANGCHAIN_PROJECT\"] = \"LangGraph Tutorial\""
   ]
  },
  {
   "cell_type": "code",
   "execution_count": null,
   "metadata": {},
   "outputs": [],
   "source": [
    "from typing import Annotated\n",
    "\n",
    "from typing_extensions import TypedDict\n",
    "\n",
    "from langgraph.graph import StateGraph, START, END\n",
    "from langgraph.graph.message import add_messages\n",
    "\n",
    "\n",
    "class State(TypedDict):\n",
    "    messages: Annotated[list, add_messages]\n",
    "\n",
    "\n",
    "graph_builder = StateGraph(State)"
   ]
  },
  {
   "cell_type": "code",
   "execution_count": null,
   "metadata": {},
   "outputs": [],
   "source": [
    "from langchain_community.llms import Ollama\n",
    "\n",
    "llm = Ollama(model=\"qwen2:1.5b\")"
   ]
  },
  {
   "cell_type": "code",
   "execution_count": null,
   "metadata": {},
   "outputs": [],
   "source": [
    "def chatbot(state):\n",
    "    prompt = state[\"messages\"]\n",
    "    response = llm.invoke(prompt)\n",
    "    return {\"messages\": [response]}"
   ]
  },
  {
   "cell_type": "markdown",
   "metadata": {},
   "source": [
    "- each time the node is executed the function is called."
   ]
  },
  {
   "cell_type": "code",
   "execution_count": null,
   "metadata": {},
   "outputs": [],
   "source": [
    "graph_builder.add_node(\"chatbot\", chatbot)"
   ]
  },
  {
   "cell_type": "code",
   "execution_count": null,
   "metadata": {},
   "outputs": [],
   "source": [
    "graph_builder.add_edge(START, \"chatbot\")\n",
    "graph_builder.add_edge(\"chatbot\",END)"
   ]
  },
  {
   "cell_type": "code",
   "execution_count": null,
   "metadata": {},
   "outputs": [],
   "source": [
    "Our_Graph = graph_builder.compile()"
   ]
  },
  {
   "cell_type": "code",
   "execution_count": null,
   "metadata": {},
   "outputs": [],
   "source": [
    "from IPython.display import Image, display\n",
    "\n",
    "try:\n",
    "    display(Image(Our_Graph.get_graph().draw_mermaid_png()))\n",
    "except Exception:\n",
    "    # This requires some extra dependencies and is optional\n",
    "    pass"
   ]
  },
  {
   "cell_type": "code",
   "execution_count": null,
   "metadata": {},
   "outputs": [],
   "source": [
    "while True:\n",
    "    user_input = input(\"User: \")\n",
    "    if user_input.lower() in [\"q\"]:\n",
    "        print(\"Goodbye!\")\n",
    "        break\n",
    "    for event in Our_Graph.stream({\"messages\": (\"user\", user_input)}):\n",
    "        for value in event.values():\n",
    "            print(\"Assistant:\", value[\"messages\"][-1])"
   ]
  },
  {
   "cell_type": "markdown",
   "metadata": {},
   "source": [
    "## Part2 : Graph with 2 nodes (LLM + Search Tool)"
   ]
  },
  {
   "cell_type": "markdown",
   "metadata": {},
   "source": [
    "### Initialize the Graph and the State :"
   ]
  },
  {
   "cell_type": "code",
   "execution_count": 1,
   "metadata": {},
   "outputs": [],
   "source": [
    "from typing import Annotated\n",
    "from typing_extensions import TypedDict\n",
    "from langchain_core.messages import BaseMessage, HumanMessage,ToolMessage,AIMessage\n",
    "from langgraph.graph import StateGraph, START\n",
    "from langgraph.graph.message import add_messages\n",
    "\n",
    "\n",
    "class State(TypedDict):\n",
    "    messages: Annotated[list, add_messages]\n",
    "\n",
    "# Create the Object that we will use to bulid our graph\n",
    "graph_builder = StateGraph(State)"
   ]
  },
  {
   "cell_type": "markdown",
   "metadata": {},
   "source": [
    "### Tavily node:"
   ]
  },
  {
   "cell_type": "markdown",
   "metadata": {},
   "source": [
    "- Tavily is the first research engine optimized for AI agents and LLMs.\n",
    "- Main key features of this API is :\n",
    "   - The results are page summaries our chat bot can use to answer questions not the just a dummy Scraping (Amazing !!).\n",
    "   - The API choose the best results from search.\n",
    "\n",
    "[Get Your Tavily API Key](https://app.tavily.com/home)"
   ]
  },
  {
   "cell_type": "code",
   "execution_count": null,
   "metadata": {},
   "outputs": [],
   "source": [
    "import getpass\n",
    "import os\n",
    "\n",
    "os.environ[\"TAVILY_API_KEY\"] = getpass.getpass()\n",
    "#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"
   ]
  },
  {
   "cell_type": "code",
   "execution_count": null,
   "metadata": {},
   "outputs": [],
   "source": [
    "from langchain_community.tools.tavily_search import TavilySearchResults\n",
    "\n",
    "Tavily = TavilySearchResults(max_results=2)\n",
    "tools = [Tavily]\n",
    "#tool.invoke(\"What's a 'node' in LangGraph?\")"
   ]
  },
  {
   "cell_type": "code",
   "execution_count": null,
   "metadata": {},
   "outputs": [],
   "source": [
    "import json\n",
    "from langchain_core.messages import ToolMessage"
   ]
  },
  {
   "cell_type": "code",
   "execution_count": null,
   "metadata": {},
   "outputs": [],
   "source": [
    "def Get_AIMessage(state:State):\n",
    "    messages = state.get(\"messages\", []) \n",
    "    # .get : Return the value associeted to the key \"messages\" if the key not exist it returns an empty list\n",
    "    if messages:\n",
    "        message = messages[-1]\n",
    "        # message is the last in messages list.\n",
    "    return message"
   ]
  },
  {
   "cell_type": "code",
   "execution_count": null,
   "metadata": {},
   "outputs": [],
   "source": [
    "def Tavily_Function(state:State):\n",
    "    message = Get_AIMessage(state)\n",
    "        \n",
    "    Tavily_call = message.tool_calls[0]\n",
    "    # Execute the Tool called by the LLM\n",
    "    tool_arguments = Tavily_call[\"args\"]\n",
    "    \n",
    "    print(f\"⚙️{YELLOW} Tavily is Executing{RESET}\")\n",
    "    \n",
    "    Tavily_result = Tavily.invoke(tool_arguments)\n",
    "    Tavily_Message =  ToolMessage(content=json.dumps(Tavily_result),name=Tavily_call[\"name\"],tool_call_id=Tavily_call[\"id\"])\n",
    "    \n",
    "    return {\"messages\": Tavily_Message}\n"
   ]
  },
  {
   "cell_type": "code",
   "execution_count": null,
   "metadata": {},
   "outputs": [],
   "source": [
    "graph_builder.add_node(\"Tavily\", Tavily_Function)"
   ]
  },
  {
   "cell_type": "markdown",
   "metadata": {},
   "source": [
    "### LLM node:\n",
    "\n",
    "- **bind_Tools** : allow us to pass the Tools Schemas (descriptions) with the prompt every Time we send a quetion to the LLM. So the LLM can request a tool(s) if he need it (them).\n",
    "- When you just use bind_tools(tools), the model can choose whether to return one tool call, multiple tool calls, or no tool calls at all."
   ]
  },
  {
   "cell_type": "code",
   "execution_count": null,
   "metadata": {},
   "outputs": [],
   "source": [
    "from langchain_experimental.llms.ollama_functions import OllamaFunctions\n",
    "\n",
    "llm = OllamaFunctions(model=\"phi3:3.8b\",format= \"json\")\n",
    "llm_with_tools = llm.bind_tools(tools)"
   ]
  },
  {
   "cell_type": "code",
   "execution_count": null,
   "metadata": {},
   "outputs": [],
   "source": [
    "def chatbot_Function(state: State):\n",
    "    print(\"State messages :\",state[\"messages\"])\n",
    "    print(f\"💡{GREEN}LLM is Thinking !{RESET}\")\n",
    "    \n",
    "    prompt = state[\"messages\"]\n",
    "    response = llm_with_tools.invoke(prompt)\n",
    "    return {\"messages\": response}"
   ]
  },
  {
   "cell_type": "code",
   "execution_count": null,
   "metadata": {},
   "outputs": [],
   "source": [
    "graph_builder.add_node(\"LLM\", chatbot_Function)"
   ]
  },
  {
   "cell_type": "markdown",
   "metadata": {},
   "source": [
    "### Design the Graph :"
   ]
  },
  {
   "cell_type": "code",
   "execution_count": null,
   "metadata": {},
   "outputs": [],
   "source": [
    "from typing import Literal\n",
    "\n",
    "\n",
    "def Condition_Function(state: State):\n",
    "    \"\"\"\n",
    "    Use in the conditional_edge to route to the ToolsNode if the last message\n",
    "    has tool calls. Otherwise, route to the end.\n",
    "    \"\"\"\n",
    "    messages = state.get(\"messages\", [])\n",
    "    \n",
    "    if isinstance(state, list):\n",
    "        ai_message = state[-1]\n",
    "        \n",
    "    elif messages : # check that messages is not an empty list\n",
    "        ai_message = messages[-1]\n",
    "    else:\n",
    "        raise ValueError(f\"No messages found in input state to tool_edge: {state}\")\n",
    "    if hasattr(ai_message, \"tool_calls\") and len(ai_message.tool_calls) > 0: # Check if the LLM ask for a tool\n",
    "        \n",
    "        if Ask_for_Tavily(ai_message.tool_calls):\n",
    "            return \"Ask for Tavily\"\n",
    "    return \"Ask for END\"\n",
    "\n",
    "def Ask_for_Tavily(tool_calls:list):\n",
    "    for tool_call in tool_calls:\n",
    "        if tool_call['name'] == \"tavily_search_results_json\":\n",
    "            return True\n",
    "    return False"
   ]
  },
  {
   "cell_type": "code",
   "execution_count": null,
   "metadata": {},
   "outputs": [],
   "source": [
    "graph_builder.add_conditional_edges(\"LLM\",Condition_Function,{\"Ask for Tavily\": \"Tavily\", \"Ask for END\": \"__end__\"},)\n",
    "graph_builder.add_edge(\"Tavily\", \"LLM\")\n",
    "graph_builder.add_edge(START, \"LLM\")\n",
    "graph = graph_builder.compile()"
   ]
  },
  {
   "cell_type": "markdown",
   "metadata": {},
   "source": [
    "### Visualize the Graph"
   ]
  },
  {
   "cell_type": "code",
   "execution_count": null,
   "metadata": {},
   "outputs": [],
   "source": [
    "from IPython.display import Image, display\n",
    "\n",
    "try:\n",
    "    display(Image(graph.get_graph().draw_mermaid_png()))\n",
    "except Exception:\n",
    "    # This requires some extra dependencies and is optional\n",
    "    pass"
   ]
  },
  {
   "cell_type": "markdown",
   "metadata": {},
   "source": [
    "### Interact With The Graph:"
   ]
  },
  {
   "cell_type": "code",
   "execution_count": null,
   "metadata": {},
   "outputs": [],
   "source": [
    "from langchain_core.messages import AIMessage\n",
    "\n",
    "My_Quetion = \"What is a node in Langraph?\"\n",
    "\n",
    "for event in graph.stream({\"messages\": [(\"user\", My_Quetion)]}):\n",
    "    for value in event.values():\n",
    "        print(value)"
   ]
  },
  {
   "cell_type": "code",
   "execution_count": null,
   "metadata": {},
   "outputs": [],
   "source": []
  },
  {
   "cell_type": "code",
   "execution_count": null,
   "metadata": {},
   "outputs": [],
   "source": []
  },
  {
   "cell_type": "markdown",
   "metadata": {},
   "source": [
    "## Part3 :Graph with Multiple Nodes As I want :"
   ]
  },
  {
   "cell_type": "markdown",
   "metadata": {},
   "source": [
    "### Graph initialization :"
   ]
  },
  {
   "cell_type": "code",
   "execution_count": 1,
   "metadata": {},
   "outputs": [],
   "source": [
    "from typing import Annotated\n",
    "from typing_extensions import TypedDict\n",
    "\n",
    "from langgraph.graph import StateGraph, START\n",
    "from langgraph.graph.message import add_messages\n",
    "\n",
    "\n",
    "class State(TypedDict):\n",
    "    messages: Annotated[list, add_messages]\n",
    "\n",
    "# Create the Object that we will use to bulid our graph\n",
    "graph_builder = StateGraph(State)"
   ]
  },
  {
   "cell_type": "markdown",
   "metadata": {},
   "source": [
    "### Tools Nodes :"
   ]
  },
  {
   "cell_type": "markdown",
   "metadata": {},
   "source": [
    "#### Weather Tool node :\n",
    "- We will a Weather API built in by langchain.\n",
    "- I already Construct the tool in My_Tools.py"
   ]
  },
  {
   "cell_type": "code",
   "execution_count": 9,
   "metadata": {},
   "outputs": [],
   "source": [
    "from My_Tools import OpenWeather"
   ]
  },
  {
   "cell_type": "markdown",
   "metadata": {},
   "source": [
    "- Test the tool"
   ]
  },
  {
   "cell_type": "code",
   "execution_count": 10,
   "metadata": {},
   "outputs": [
    {
     "name": "stdout",
     "output_type": "stream",
     "text": [
      "OpenWeather\n",
      "Give the Weather information for a specific Location\n",
      "{'Location': {'title': 'Location', 'description': 'The Location is often a city name like London, Casablanca ...', 'type': 'string'}}\n"
     ]
    }
   ],
   "source": [
    "print(OpenWeather.name)\n",
    "print(OpenWeather.description)\n",
    "print(OpenWeather.args)"
   ]
  },
  {
   "cell_type": "code",
   "execution_count": 11,
   "metadata": {},
   "outputs": [
    {
     "name": "stdout",
     "output_type": "stream",
     "text": [
      "In Meknes, the current weather is as follows:\n",
      "Detailed status: broken clouds\n",
      "Wind speed: 4.12 m/s, direction: 330°\n",
      "Humidity: 44%\n",
      "Temperature: \n",
      "  - Current: 37.49°C\n",
      "  - High: 37.49°C\n",
      "  - Low: 37.49°C\n",
      "  - Feels like: 44.08°C\n",
      "Rain: {}\n",
      "Heat index: None\n",
      "Cloud cover: 75%\n"
     ]
    }
   ],
   "source": [
    "print(OpenWeather.invoke({\"Location\": \"Meknes\"})) # invoke execute the run()"
   ]
  },
  {
   "cell_type": "markdown",
   "metadata": {},
   "source": [
    "- Create the Node Function:"
   ]
  },
  {
   "cell_type": "code",
   "execution_count": 12,
   "metadata": {},
   "outputs": [],
   "source": [
    "from langchain_core.messages import ToolMessage"
   ]
  },
  {
   "cell_type": "code",
   "execution_count": 13,
   "metadata": {},
   "outputs": [],
   "source": [
    "def Get_AIMessage(state:State):\n",
    "    messages = state.get(\"messages\", []) \n",
    "    # .get : Return the value associeted to the key \"messages\" if the key not exist it returns an empty list\n",
    "    if messages:\n",
    "        message = messages[-1]\n",
    "        # message is the last in messages list.\n",
    "    return message\n",
    "\n",
    "def OpenWeather_Function(state:State,tool = OpenWeather):\n",
    "    message = Get_AIMessage(state)\n",
    "        \n",
    "    Tool_call = message.tool_calls[0]\n",
    "    # Execute the Tool called by the LLM\n",
    "    Tool_arguments = Tool_call[\"args\"]\n",
    "    Tool_Name = Tool_call[\"name\"]\n",
    "    print(f\"⚙️{YELLOW} {Tool_Name} is Executing{RESET}\")\n",
    "    \n",
    "    Tool_result = tool.invoke(Tool_arguments)\n",
    "    Tool_Message =  ToolMessage(content=Tool_result,name=Tool_call[\"name\"],tool_call_id=Tool_call[\"id\"])\n",
    "    \n",
    "    return {\"messages\": Tool_Message}\n"
   ]
  },
  {
   "cell_type": "code",
   "execution_count": 14,
   "metadata": {},
   "outputs": [],
   "source": [
    "graph_builder.add_node(\"OpenWeather\", OpenWeather_Function)"
   ]
  },
  {
   "cell_type": "markdown",
   "metadata": {},
   "source": [
    "#### Tavily Tool Node :"
   ]
  },
  {
   "cell_type": "code",
   "execution_count": 15,
   "metadata": {},
   "outputs": [],
   "source": [
    "from My_Tools import Tavily\n",
    "from langchain_core.messages import ToolMessage"
   ]
  },
  {
   "cell_type": "code",
   "execution_count": 16,
   "metadata": {},
   "outputs": [
    {
     "name": "stdout",
     "output_type": "stream",
     "text": [
      "Tavily\n",
      "A search engine optimized for comprehensive, accurate, and trusted results. Useful for when you need to answer questions about current events. Input should be a search query.\n",
      "{'query': {'title': 'Query', 'description': 'search query to look up', 'type': 'string'}}\n"
     ]
    }
   ],
   "source": [
    "print(Tavily.name)\n",
    "print(Tavily.description)\n",
    "print(Tavily.args)"
   ]
  },
  {
   "cell_type": "code",
   "execution_count": 17,
   "metadata": {},
   "outputs": [],
   "source": [
    "def Get_AIMessage(state:State):\n",
    "    messages = state.get(\"messages\", []) \n",
    "    # .get : Return the value associeted to the key \"messages\" if the key not exist it returns an empty list\n",
    "    if messages:\n",
    "        message = messages[-1]\n",
    "        # message is the last in messages list.\n",
    "    return message\n",
    "\n",
    "def Tavily_Function(state:State,tool = Tavily):\n",
    "    message = Get_AIMessage(state)\n",
    "        \n",
    "    Tool_call = message.tool_calls[0]\n",
    "    # Execute the Tool called by the LLM\n",
    "    Tool_arguments = Tool_call[\"args\"]\n",
    "    Tool_Name = Tool_call[\"name\"]\n",
    "    print(f\"⚙️{YELLOW} {Tool_Name} is Executing{RESET}\")\n",
    "    \n",
    "    Tool_result = tool.invoke(Tool_arguments)\n",
    "    Tool_Message =  ToolMessage(content=Tool_result,name=Tool_call[\"name\"],tool_call_id=Tool_call[\"id\"])\n",
    "    \n",
    "    return {\"messages\": Tool_Message}\n"
   ]
  },
  {
   "cell_type": "code",
   "execution_count": 18,
   "metadata": {},
   "outputs": [],
   "source": [
    "graph_builder.add_node(\"Tavily\", Tavily_Function)"
   ]
  },
  {
   "cell_type": "markdown",
   "metadata": {},
   "source": [
    "### LLM node :"
   ]
  },
  {
   "cell_type": "code",
   "execution_count": 19,
   "metadata": {},
   "outputs": [],
   "source": [
    "tools = [OpenWeather,Tavily]"
   ]
  },
  {
   "cell_type": "code",
   "execution_count": 20,
   "metadata": {},
   "outputs": [],
   "source": [
    "from langchain_experimental.llms.ollama_functions import OllamaFunctions\n",
    "\n",
    "llm = OllamaFunctions(model=\"gemma2:9b\",format= \"json\")\n",
    "llm_with_tools = llm.bind_tools(tools)"
   ]
  },
  {
   "cell_type": "code",
   "execution_count": 21,
   "metadata": {},
   "outputs": [],
   "source": [
    "def LLM_function(state:State):\n",
    "    print(f\"{BLUE}State messages :{RESET}\",state[\"messages\"])\n",
    "    print(f\"💡{GREEN}LLM is Thinking !{RESET}\")\n",
    "    \n",
    "    prompt = state[\"messages\"]\n",
    "    response = llm_with_tools.invoke(prompt)\n",
    "    return {\"messages\": response}"
   ]
  },
  {
   "cell_type": "code",
   "execution_count": 22,
   "metadata": {},
   "outputs": [],
   "source": [
    "graph_builder.add_node(\"LLM\", LLM_function)"
   ]
  },
  {
   "cell_type": "markdown",
   "metadata": {},
   "source": [
    "### Desing the Graph:"
   ]
  },
  {
   "cell_type": "code",
   "execution_count": 23,
   "metadata": {},
   "outputs": [],
   "source": [
    "def Condition_Function(state: State):\n",
    "    messages = state.get(\"messages\", [])\n",
    "    \n",
    "    if isinstance(state, list):\n",
    "        ai_message = state[-1]\n",
    "        \n",
    "    elif messages : # check that messages is not an empty list\n",
    "        ai_message = messages[-1]\n",
    "    else:\n",
    "        raise ValueError(f\"No messages found in State: {state}\")\n",
    "    if hasattr(ai_message, \"tool_calls\") and len(ai_message.tool_calls) > 0: # Check if the LLM ask for a tool\n",
    "        \n",
    "        for tool_call in ai_message.tool_calls:\n",
    "            if tool_call['name'] == \"OpenWeather\":\n",
    "                return \"OpenWeather\"\n",
    "            if tool_call['name'] == \"Tavily\":\n",
    "                return \"Tavily\"\n",
    "    return \"__end__\"\n"
   ]
  },
  {
   "cell_type": "code",
   "execution_count": 24,
   "metadata": {},
   "outputs": [],
   "source": [
    "graph_builder.add_conditional_edges(\"LLM\",Condition_Function)\n",
    "graph_builder.add_edge(\"OpenWeather\", \"LLM\") # if the OpenWeather is invoked so the next node will be the LLM\n",
    "graph_builder.add_edge(\"Tavily\", \"LLM\")\n",
    "graph_builder.add_edge(START, \"LLM\")\n",
    "graph = graph_builder.compile()"
   ]
  },
  {
   "cell_type": "markdown",
   "metadata": {},
   "source": [
    "### Visualize the Graph"
   ]
  },
  {
   "cell_type": "code",
   "execution_count": 25,
   "metadata": {},
   "outputs": [
    {
     "data": {
      "image/jpeg": "[encoded data removed]",
      "text/plain": [
       "<IPython.core.display.Image object>"
      ]
     },
     "metadata": {},
     "output_type": "display_data"
    }
   ],
   "source": [
    "from IPython.display import Image, display\n",
    "\n",
    "try:\n",
    "    display(Image(graph.get_graph().draw_mermaid_png()))\n",
    "except Exception:\n",
    "    # This requires some extra dependencies and is optional\n",
    "    pass"
   ]
  },
  {
   "cell_type": "markdown",
   "metadata": {},
   "source": [
    "### Interact With The Graph:"
   ]
  },
  {
   "cell_type": "code",
   "execution_count": null,
   "metadata": {},
   "outputs": [],
   "source": [
    "My_Quetion = \"What is a dog ?\"\n",
    "Input_Message = {\"messages\": [(\"human\", My_Quetion)]}\n",
    "\n",
    "async for chunk in graph.astream(Input_Message, stream_mode=\"values\"):\n",
    "    chunk[\"messages\"][-1].pretty_print()"
   ]
  },
  {
   "cell_type": "code",
   "execution_count": null,
   "metadata": {},
   "outputs": [],
   "source": []
  },
  {
   "cell_type": "code",
   "execution_count": null,
   "metadata": {},
   "outputs": [],
   "source": []
  },
  {
   "cell_type": "markdown",
   "metadata": {},
   "source": [
    "## Part 4 : Add Memory to our Agent:"
   ]
  },
  {
   "cell_type": "code",
   "execution_count": null,
   "metadata": {},
   "outputs": [],
   "source": [
    "from langgraph.checkpoint.sqlite import SqliteSaver\n",
    "\n",
    "memory = SqliteSaver.from_conn_string(\":memory:\")"
   ]
  },
  {
   "cell_type": "code",
   "execution_count": null,
   "metadata": {},
   "outputs": [],
   "source": [
    "from typing import Annotated\n",
    "\n",
    "from typing_extensions import TypedDict\n",
    "\n",
    "from langgraph.graph import StateGraph, START, END\n",
    "from langgraph.graph.message import add_messages\n",
    "\n",
    "\n",
    "class State(TypedDict):\n",
    "    messages: Annotated[list, add_messages]\n",
    "\n",
    "\n",
    "graph_builder = StateGraph(State)"
   ]
  },
  {
   "cell_type": "code",
   "execution_count": null,
   "metadata": {},
   "outputs": [],
   "source": [
    "from langchain_community.llms import Ollama\n",
    "\n",
    "llm = Ollama(model=\"gemma2:9b\")"
   ]
  },
  {
   "cell_type": "code",
   "execution_count": null,
   "metadata": {},
   "outputs": [],
   "source": [
    "def LLM_function(state:State):\n",
    "    print(f\"{BLUE}State messages :{RESET}\",state[\"messages\"])\n",
    "    print(f\"💡{GREEN}LLM is Thinking !{RESET}\")\n",
    "    \n",
    "    prompt = state[\"messages\"]\n",
    "    response = llm.invoke(prompt)\n",
    "    return {\"messages\": response}"
   ]
  },
  {
   "cell_type": "code",
   "execution_count": null,
   "metadata": {},
   "outputs": [],
   "source": [
    "graph_builder.add_node(\"LLM\", LLM_function)\n",
    "graph_builder.add_edge(START, \"LLM\")\n",
    "graph_builder.add_edge(\"LLM\",END)"
   ]
  },
  {
   "cell_type": "code",
   "execution_count": null,
   "metadata": {},
   "outputs": [],
   "source": [
    "graph = graph_builder.compile(checkpointer=memory)"
   ]
  },
  {
   "cell_type": "code",
   "execution_count": null,
   "metadata": {},
   "outputs": [],
   "source": [
    "config = {\"configurable\": {\"thread_id\": \"1\"}} \n",
    "# We configurate here the id of the State to load by the graph\n",
    "\n",
    "My_Quetion = \"Hi Do you know About Morroco?\"\n",
    "Input_Message = {\"messages\": [(\"user\", My_Quetion)]}\n",
    "\n",
    "# The config is the **second positional argument** to stream() or invoke()!\n",
    "events = graph.stream(Input_Message, config, stream_mode=\"values\")\n",
    "for event in events:\n",
    "    event[\"messages\"][-1].pretty_print()"
   ]
  },
  {
   "cell_type": "code",
   "execution_count": null,
   "metadata": {},
   "outputs": [],
   "source": [
    "config = {\"configurable\": {\"thread_id\": \"1\"}} \n",
    "# We configurate here the id of the State to load by the graph\n",
    "\n",
    "My_Quetion = \"What is the Capital?\"\n",
    "Input_Message = {\"messages\": [(\"user\", My_Quetion)]}\n",
    "# The config is the **second positional argument** to stream() or invoke()!\n",
    "\n",
    "events = graph.stream(Input_Message, config, stream_mode=\"values\")\n",
    "for event in events:\n",
    "    event[\"messages\"][-1].pretty_print()"
   ]
  },
  {
   "cell_type": "code",
   "execution_count": null,
   "metadata": {},
   "outputs": [],
   "source": [
    "State_tread1 =graph.get_state(config)\n",
    "print(State_tread1)"
   ]
  },
  {
   "cell_type": "markdown",
   "metadata": {},
   "source": [
    "## Part 5 : Human in the Loop:"
   ]
  },
  {
   "cell_type": "code",
   "execution_count": null,
   "metadata": {},
   "outputs": [],
   "source": [
    "from langgraph.checkpoint.sqlite import SqliteSaver\n",
    "\n",
    "memory = SqliteSaver.from_conn_string(\":memory:\")"
   ]
  },
  {
   "cell_type": "code",
   "execution_count": null,
   "metadata": {},
   "outputs": [],
   "source": [
    "from typing import Annotated\n",
    "\n",
    "from typing_extensions import TypedDict\n",
    "\n",
    "from langgraph.graph import StateGraph, START, END\n",
    "from langgraph.graph.message import add_messages\n",
    "\n",
    "\n",
    "class State(TypedDict):\n",
    "    messages: Annotated[list, add_messages]\n",
    "\n",
    "\n",
    "graph_builder = StateGraph(State)"
   ]
  },
  {
   "cell_type": "markdown",
   "metadata": {},
   "source": [
    "#### AskNews Tool Node :"
   ]
  },
  {
   "cell_type": "code",
   "execution_count": null,
   "metadata": {},
   "outputs": [],
   "source": [
    "from My_Tools import AskNews\n",
    "from langchain_core.messages import ToolMessage"
   ]
  },
  {
   "cell_type": "code",
   "execution_count": null,
   "metadata": {},
   "outputs": [],
   "source": [
    "print(AskNews.name) \n",
    "# This is importatnt because This is the Name that the LLM will use to call the Tool \n",
    "print(AskNews.description)\n",
    "print(AskNews.args)"
   ]
  },
  {
   "cell_type": "code",
   "execution_count": null,
   "metadata": {},
   "outputs": [],
   "source": [
    "def Get_AIMessage(state:State):\n",
    "    messages = state.get(\"messages\", []) \n",
    "    # .get : Return the value associeted to the key \"messages\" if the key not exist it returns an empty list\n",
    "    if messages:\n",
    "        message = messages[-1]\n",
    "        # message is the last in messages list.\n",
    "    return message\n",
    "\n",
    "def AskNews_Function(state:State,tool = AskNews):\n",
    "    message = Get_AIMessage(state)\n",
    "        \n",
    "    Tool_call = message.tool_calls[0]\n",
    "    # Execute the Tool called by the LLM\n",
    "    Tool_arguments = Tool_call[\"args\"]\n",
    "    Tool_Name = Tool_call[\"name\"]\n",
    "    print(f\"⚙️{YELLOW} {Tool_Name} is Executing{RESET}\")\n",
    "    \n",
    "    Tool_result = tool.invoke(Tool_arguments)\n",
    "    Tool_Message =  ToolMessage(content=Tool_result,name=Tool_call[\"name\"],tool_call_id=Tool_call[\"id\"])\n",
    "    \n",
    "    return {\"messages\": Tool_Message}\n"
   ]
  },
  {
   "cell_type": "code",
   "execution_count": null,
   "metadata": {},
   "outputs": [],
   "source": [
    "graph_builder.add_node(\"AskNews\", AskNews_Function)"
   ]
  },
  {
   "cell_type": "markdown",
   "metadata": {},
   "source": [
    "### LLM node :"
   ]
  },
  {
   "cell_type": "code",
   "execution_count": null,
   "metadata": {},
   "outputs": [],
   "source": [
    "tools = [AskNews]"
   ]
  },
  {
   "cell_type": "code",
   "execution_count": null,
   "metadata": {},
   "outputs": [],
   "source": [
    "from langchain_experimental.llms.ollama_functions import OllamaFunctions\n",
    "\n",
    "llm = OllamaFunctions(model=\"gemma2:9b\",format= \"json\")\n",
    "llm_with_tools = llm.bind_tools(tools)"
   ]
  },
  {
   "cell_type": "code",
   "execution_count": null,
   "metadata": {},
   "outputs": [],
   "source": [
    "def LLM_function(state:State):\n",
    "    print(f\"{BLUE}State messages :{RESET}\",state[\"messages\"])\n",
    "    print(f\"💡{GREEN}LLM is Thinking !{RESET}\")\n",
    "    \n",
    "    prompt = state[\"messages\"]\n",
    "    response = llm_with_tools.invoke(prompt)\n",
    "    return {\"messages\": response}"
   ]
  },
  {
   "cell_type": "code",
   "execution_count": null,
   "metadata": {},
   "outputs": [],
   "source": [
    "graph_builder.add_node(\"LLM\", LLM_function)"
   ]
  },
  {
   "cell_type": "markdown",
   "metadata": {},
   "source": [
    "### Desing the Graph:"
   ]
  },
  {
   "cell_type": "code",
   "execution_count": null,
   "metadata": {},
   "outputs": [],
   "source": [
    "def Condition_Function(state: State):\n",
    "    messages = state.get(\"messages\", [])\n",
    "    \n",
    "    if isinstance(state, list):\n",
    "        ai_message = state[-1]\n",
    "        \n",
    "    elif messages : # check that messages is not an empty list\n",
    "        ai_message = messages[-1]\n",
    "    else:\n",
    "        raise ValueError(f\"No messages found in State: {state}\")\n",
    "    if hasattr(ai_message, \"tool_calls\") and len(ai_message.tool_calls) > 0: # Check if the LLM ask for a tool\n",
    "        \n",
    "        for tool_call in ai_message.tool_calls:\n",
    "            if tool_call['name'] == \"asknews_search\":\n",
    "                return \"AskNews\"\n",
    "    return \"__end__\"\n"
   ]
  },
  {
   "cell_type": "code",
   "execution_count": null,
   "metadata": {},
   "outputs": [],
   "source": [
    "graph_builder.add_conditional_edges(\"LLM\",Condition_Function)\n",
    "graph_builder.add_edge(\"AskNews\", \"LLM\")\n",
    "graph_builder.add_edge(START, \"LLM\")"
   ]
  },
  {
   "cell_type": "code",
   "execution_count": null,
   "metadata": {},
   "outputs": [],
   "source": [
    "graph = graph_builder.compile(\n",
    "    checkpointer=memory,\n",
    "    # This is new!\n",
    "    #interrupt_before=[\"LLM\"],\n",
    "    # We will Stop the graph after LLM node is executed\n",
    "    interrupt_after=[\"LLM\"]\n",
    ")"
   ]
  },
  {
   "cell_type": "code",
   "execution_count": null,
   "metadata": {},
   "outputs": [],
   "source": []
  },
  {
   "cell_type": "markdown",
   "metadata": {},
   "source": [
    "### Visualize the Graph"
   ]
  },
  {
   "cell_type": "code",
   "execution_count": null,
   "metadata": {},
   "outputs": [],
   "source": [
    "from IPython.display import Image, display\n",
    "\n",
    "try:\n",
    "    display(Image(graph.get_graph().draw_mermaid_png()))\n",
    "except Exception:\n",
    "    # This requires some extra dependencies and is optional\n",
    "    pass"
   ]
  },
  {
   "cell_type": "markdown",
   "metadata": {},
   "source": [
    "### Interact With The Graph:"
   ]
  },
  {
   "cell_type": "code",
   "execution_count": null,
   "metadata": {},
   "outputs": [],
   "source": [
    "user_input = \"What is the effect of Global warming in Morroco in 2024?\"\n",
    "config = {\"configurable\": {\"thread_id\": \"1\"}}\n",
    "# The config is the **second positional argument** to stream() or invoke()!\n",
    "events = graph.stream(\n",
    "    {\"messages\": [(\"user\", user_input)]}, config, stream_mode=\"values\"\n",
    ")\n",
    "for event in events:\n",
    "    if \"messages\" in event:\n",
    "        event[\"messages\"][-1].pretty_print()"
   ]
  },
  {
   "cell_type": "markdown",
   "metadata": {},
   "source": [
    "- We can see thet the Graph Stop After the LLM node has been executed."
   ]
  },
  {
   "cell_type": "code",
   "execution_count": null,
   "metadata": {},
   "outputs": [],
   "source": [
    "# `None` will append nothing new to the current state, letting it resume as if it had never been interrupted\n",
    "events = graph.stream(None, config, stream_mode=\"values\")\n",
    "for event in events:\n",
    "    if \"messages\" in event:\n",
    "        event[\"messages\"][-1].pretty_print()"
   ]
  },
  {
   "cell_type": "markdown",
   "metadata": {},
   "source": [
    "## Part 6 : Modify the Sate Manualy :\n",
    "- Until to Now the graph update the Sate with New messages automaticly *(Of course the Return of every Node-function's return should be a Dic with key \"messages\")*\n",
    "- Now we Can add messages to the State, or Overite messages already exist."
   ]
  },
  {
   "cell_type": "markdown",
   "metadata": {},
   "source": [
    "### Add Messages :"
   ]
  },
  {
   "cell_type": "code",
   "execution_count": 1,
   "metadata": {},
   "outputs": [],
   "source": [
    "from Graphs import graph2"
   ]
  },
  {
   "cell_type": "code",
   "execution_count": 2,
   "metadata": {},
   "outputs": [
    {
     "name": "stdout",
     "output_type": "stream",
     "text": [
      "================================\u001b[1m Human Message \u001b[0m=================================\n",
      "\n",
      "I'm learning LangGraph. Could you do some research on it for me?\n",
      "==================================\u001b[1m Ai Message \u001b[0m==================================\n",
      "Tool Calls:\n",
      "  tavily_search_results_json (call_f1niu2ia)\n",
      " Call ID: call_f1niu2ia\n",
      "  Args:\n",
      "    query: LangGraph\n",
      "=================================\u001b[1m Tool Message \u001b[0m=================================\n",
      "Name: tavily_search_results_json\n",
      "\n",
      "[{\"url\": \"https://www.langchain.com/langgraph\", \"content\": \"LangGraph sets the foundation for how we can build and scale AI workloads \\u2014 from conversational agents, complex task automation, to custom LLM-backed experiences that 'just work'. The next chapter in building complex production-ready features with LLMs is agentic, and with LangGraph and LangSmith, LangChain delivers an out-of-the-box solution ...\"}, {\"url\": \"https://github.com/langchain-ai/langgraph\", \"content\": \"LangGraph is a framework for creating stateful, multi-actor applications with LLMs, using cycles, controllability, and persistence. It integrates with LangChain and LangSmith, and supports streaming, human-in-the-loop, and memory features.\"}]\n",
      "==================================\u001b[1m Ai Message \u001b[0m==================================\n",
      "\n",
      " LangGraph is a framework developed by LangChain for creating stateful, multi-actor applications using Large Language Models (LLMs). It allows the building of complex AI workloads such as conversational agents, task automation, and custom experiences backed by LLMs. The framework supports features like streaming, human-in-the-loop, memory management, cycles, controllability, and persistence. LangGraph can be integrated with other tools from LangChain and LangSmith, and it sets the foundation for building agentic applications using LLMs, making them easier to scale and maintain.\n",
      "\n",
      "Reference(s):\n",
      "* [LangChain Website](https://www.langchain.com/langgraph)\n",
      "* [LangGraph on Github](https://github.com/langchain-ai/langgraph)\n"
     ]
    }
   ],
   "source": [
    "user_input = \"I'm learning LangGraph. Could you do some research on it for me?\"\n",
    "config = {\"configurable\": {\"thread_id\": \"1\"}}\n",
    "# The config is the **second positional argument** to stream() or invoke()!\n",
    "events = graph2.stream({\"messages\": [(\"user\", user_input)]}, config,stream_mode=\"values\")\n",
    "for event in events:\n",
    "    if \"messages\" in event:\n",
    "        event[\"messages\"][-1].pretty_print()"
   ]
  },
  {
   "cell_type": "code",
   "execution_count": null,
   "metadata": {},
   "outputs": [],
   "source": [
    "Graph_execution = graph1.get_state(config)\n",
    "Graph_execution.values[\"messages\"]"
   ]
  },
  {
   "cell_type": "markdown",
   "metadata": {},
   "source": [
    "- Because We interupt the graph , *Graph_execution.next* attribute has value as the next nodes names that will be executed."
   ]
  },
  {
   "cell_type": "code",
   "execution_count": null,
   "metadata": {},
   "outputs": [],
   "source": [
    "Graph_execution.next"
   ]
  },
  {
   "cell_type": "markdown",
   "metadata": {},
   "source": [
    "- We can add ToolMessage and AIMessage to the State like as the \"tools\" an \"chatbot\" nodes has been executed."
   ]
  },
  {
   "cell_type": "code",
   "execution_count": null,
   "metadata": {},
   "outputs": [],
   "source": [
    "from langchain_core.messages import AIMessage,ToolMessage\n",
    "\n",
    "answer = (\n",
    "    \"LangGraph is a library for building stateful, multi-actor applications with LLMs.\"\n",
    ")\n",
    "new_messages = [\n",
    "    ToolMessage(content=answer, tool_call_id=\"1111111\"),\n",
    "    AIMessage(content=answer),\n",
    "]\n",
    "graph1.update_state(config,{\"messages\": new_messages})"
   ]
  },
  {
   "cell_type": "markdown",
   "metadata": {},
   "source": [
    "- Lets Cheack if the State updated or Not ?"
   ]
  },
  {
   "cell_type": "code",
   "execution_count": null,
   "metadata": {},
   "outputs": [],
   "source": [
    "Graph_execution = graph1.get_state(config)\n",
    "Graph_execution.values[\"messages\"]"
   ]
  },
  {
   "cell_type": "markdown",
   "metadata": {},
   "source": [
    "- The graph will end execution because the AiMessge dosn't countain a tool_calls "
   ]
  },
  {
   "cell_type": "code",
   "execution_count": null,
   "metadata": {},
   "outputs": [],
   "source": [
    "Graph_execution.next"
   ]
  },
  {
   "cell_type": "markdown",
   "metadata": {},
   "source": [
    "### Change Messages :"
   ]
  },
  {
   "cell_type": "code",
   "execution_count": null,
   "metadata": {},
   "outputs": [],
   "source": [
    "user_input = \"What happen to Trump in the Last Days?\"\n",
    "config = {\"configurable\": {\"thread_id\": \"3\"}} \n",
    "events = graph2.stream(\n",
    "    {\"messages\": [(\"user\", user_input)]}, config, stream_mode=\"values\"\n",
    ")\n",
    "for event in events:\n",
    "    if \"messages\" in event:\n",
    "        event[\"messages\"][-1].pretty_print()"
   ]
  },
  {
   "cell_type": "code",
   "execution_count": null,
   "metadata": {},
   "outputs": [],
   "source": [
    "from langchain_core.messages import AIMessage\n",
    "\n",
    "snapshot = graph1.get_state(config)\n",
    "existing_message = snapshot.values[\"messages\"][-1]\n",
    "print(\"Original\")\n",
    "print(\"Message ID\", existing_message.id)\n",
    "print(existing_message.tool_calls[0])\n",
    "new_tool_call = existing_message.tool_calls[0].copy()\n",
    "new_tool_call[\"args\"][\"query\"] = \"Trumpy Attack News BBC\"\n",
    "new_message = AIMessage(\n",
    "    content=existing_message.content,\n",
    "    tool_calls=[new_tool_call],\n",
    "    # Important! The ID is how LangGraph knows to REPLACE the message in the state rather than APPEND this messages\n",
    "    id=existing_message.id,\n",
    ")\n",
    "\n",
    "print(\"Updated\")\n",
    "print(new_message.tool_calls[0])\n",
    "print(\"Message ID\", new_message.id)\n",
    "graph1.update_state(config, {\"messages\": [new_message]})\n"
   ]
  },
  {
   "cell_type": "code",
   "execution_count": null,
   "metadata": {},
   "outputs": [],
   "source": [
    "Graph_execution = graph1.get_state(config)\n",
    "Graph_execution.values[\"messages\"]"
   ]
  },
  {
   "cell_type": "code",
   "execution_count": null,
   "metadata": {},
   "outputs": [],
   "source": [
    "events = graph1.stream(None, config, stream_mode=\"values\")\n",
    "for event in events:\n",
    "    if \"messages\" in event:\n",
    "        event[\"messages\"][-1].pretty_print()"
   ]
  },
  {
   "cell_type": "code",
   "execution_count": null,
   "metadata": {},
   "outputs": [],
   "source": []
  }
 ],
 "metadata": {
  "kernelspec": {
   "display_name": "LLM_Courses",
   "language": "python",
   "name": "python3"
  },
  "language_info": {
   "codemirror_mode": {
    "name": "ipython",
    "version": 3
   },
   "file_extension": ".py",
   "mimetype": "text/x-python",
   "name": "python",
   "nbconvert_exporter": "python",
   "pygments_lexer": "ipython3",
   "version": "3.9.19"
  }
 },
 "nbformat": 4,
 "nbformat_minor": 2
}
