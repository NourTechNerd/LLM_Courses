{
 "cells": [
  {
   "cell_type": "markdown",
   "metadata": {},
   "source": [
    "### Function Calling:\n",
    "- Function Calling means force the LLM Responce to be in a specific Format, so we can use this response to call a Function(API,Tool) to get a responce then show this responce or return it back to the LLM to generate the Final responce."
   ]
  },
  {
   "cell_type": "markdown",
   "metadata": {},
   "source": [
    "### Example : The Stock Price API with Qween2:1.5b LLM"
   ]
  },
  {
   "cell_type": "markdown",
   "metadata": {},
   "source": [
    "- **Pydentic** is a famous library for data validation,for exemple if I create a instance from the StockInfo class without providing the company attribute i will get a Validation error."
   ]
  },
  {
   "cell_type": "code",
   "execution_count": 3,
   "metadata": {},
   "outputs": [],
   "source": [
    "from openai import OpenAI\n",
    "from pydantic import BaseModel, Field\n",
    "from typing import List\n",
    "import yfinance as yf\n",
    "import instructor\n",
    "\n",
    "\n",
    "class StockInfo(BaseModel):\n",
    "    company: str = Field(..., description=\"Name of the company\")\n",
    "    ticker: str = Field(..., description=\"Ticker symbol of the company\")\n",
    "    \n",
    "client = instructor.patch(\n",
    "    OpenAI(\n",
    "        base_url=\"http://localhost:11434/v1\",\n",
    "        api_key=\"ollama\",\n",
    "    ),\n",
    "    mode=instructor.Mode.JSON,\n",
    ")\n",
    "    "
   ]
  },
  {
   "cell_type": "markdown",
   "metadata": {},
   "source": [
    "**mode=instructor.Mode.JSON:** This sets the mode to JSON, which likely configures the API to handle JSON input and output. This means that the requests sent to the API and the responses received will be in JSON format."
   ]
  },
  {
   "cell_type": "code",
   "execution_count": 15,
   "metadata": {},
   "outputs": [],
   "source": [
    "company = \"Apple\""
   ]
  },
  {
   "cell_type": "code",
   "execution_count": 16,
   "metadata": {},
   "outputs": [],
   "source": [
    "resp = client.chat.completions.create(\n",
    "    model=\"qwen2:1.5b\",\n",
    "    messages=[\n",
    "        {\n",
    "            \"role\": \"user\",\n",
    "            \"content\": f\"Return the company name and the ticker symbol of the {company}.\"\n",
    "        }\n",
    "    ],\n",
    "    response_model=StockInfo, # Like We applicate A data Validation test to the response of LLM\n",
    "    max_retries=10 #  Sets the maximum number of retries for the request in case of transient errors.\n",
    ")"
   ]
  },
  {
   "cell_type": "code",
   "execution_count": 17,
   "metadata": {},
   "outputs": [
    {
     "name": "stdout",
     "output_type": "stream",
     "text": [
      "{\n",
      "  \"company\": \"Apple\",\n",
      "  \"ticker\": \"AAPL\"\n",
      "}\n"
     ]
    }
   ],
   "source": [
    "#Print the reponse of the LLM model\n",
    "print(resp.model_dump_json(indent=2))"
   ]
  },
  {
   "cell_type": "code",
   "execution_count": 18,
   "metadata": {},
   "outputs": [
    {
     "name": "stdout",
     "output_type": "stream",
     "text": [
      "The stock price of the Apple is 230.5399932861328. USD\n"
     ]
    }
   ],
   "source": [
    "stock = yf.Ticker(resp.ticker)\n",
    "hist = stock.history(period=\"1d\")\n",
    "stock_price = hist['Close'].iloc[-1]\n",
    "print(f\"The stock price of the {resp.company} is {stock_price}. USD\")"
   ]
  },
  {
   "cell_type": "code",
   "execution_count": null,
   "metadata": {},
   "outputs": [],
   "source": []
  },
  {
   "cell_type": "code",
   "execution_count": null,
   "metadata": {},
   "outputs": [],
   "source": []
  },
  {
   "cell_type": "code",
   "execution_count": null,
   "metadata": {},
   "outputs": [],
   "source": []
  },
  {
   "cell_type": "code",
   "execution_count": null,
   "metadata": {},
   "outputs": [],
   "source": []
  },
  {
   "cell_type": "code",
   "execution_count": null,
   "metadata": {},
   "outputs": [],
   "source": []
  }
 ],
 "metadata": {
  "kernelspec": {
   "display_name": "LLM_Courses",
   "language": "python",
   "name": "python3"
  },
  "language_info": {
   "codemirror_mode": {
    "name": "ipython",
    "version": 3
   },
   "file_extension": ".py",
   "mimetype": "text/x-python",
   "name": "python",
   "nbconvert_exporter": "python",
   "pygments_lexer": "ipython3",
   "version": "3.9.19"
  }
 },
 "nbformat": 4,
 "nbformat_minor": 2
}
