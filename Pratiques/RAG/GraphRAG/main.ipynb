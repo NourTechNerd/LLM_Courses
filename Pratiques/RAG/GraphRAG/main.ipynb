{
 "cells": [
  {
   "cell_type": "markdown",
   "metadata": {},
   "source": [
    "## Why GraphRAG ?\n",
    "\n",
    "- Traditional RAG based on Sementic search give poor results specially for large RAG content, or complexe one.\n",
    "- Also , it sruggles with General Data questions like \"What is the 5 themes in data ?\" ,\n",
    "\n",
    "## What is GraphRAG ?\n",
    "\n",
    "- Is a Graph approach for RAG. The idea is to create a  <span style =\"color:#DAF7A6 ; font-weight:bold \">Generated Knowledge Graph</span>\n",
    " where each node is a entity (place,person,organization...), have a :\n",
    "  - <span style =\"color:#ed80e9 ; font-weight:bold \">Size</span>\n",
    "  reflects how much relations it has.\n",
    "  - <span style =\"color:#ed80e9 ; font-weight:bold \">Cluster</span>\n",
    "   represent the cluster it belongs to.\n"
   ]
  },
  {
   "cell_type": "markdown",
   "metadata": {},
   "source": [
    "\n",
    "## How it works ?\n",
    "\n",
    "- A flowchart explanation <a href=\"https://mermaid.live/view#pako:eNqNVV1z2ygU_SsMnaxfiGtL_tTsdCb-SlInitN0-7BSH7CELCYyeBFK4nWd376ALRu5np2gF8Q553K4XGADIx4T6MGLiw1lVHpgU5MpWZKaB2oxFs81BHYDP7CgeJ6RXCEbUFsJusRiPeQZF5r7ycH60_Q99J28ySOcJImFDbiIiTii3WFDNU3IKCPH8Ulv4Dh9PZ6TiLO4MmOj0WnuRJIISSuYq5qacbvdXlyELGRJxl-jFAsJvo9CBlTLi_lC4FUKbllM3ihbBCEsu2CW4pyE8OeOqttV8MQLEREw4lGxJEzmP8Hl5RcwCPQ6wTAt2LNSWoqBwYfBmEkq12D8JgWOJOXsN84o-EYyrKE8pavzzCH4A4wMexxMGX_NSLwg4Nqs4JowIvCJYGzIk2DIl8uCaQcjIslp2IlhXQc3VEUQUUojnIGj5EmKIpKFIJbk2DuksBRQkqssHuV35IVkeSWPut0E3ziXOxQMGyforTKzSEu0eYJ-De74awm6FkhYfM7j9W4XjgbPkSzY0KfBPqXEzkWxVKWrKPtJDxOe1NNjQcR6V0-me6aY7oK_ciJ2zF0Z3QdPJFO7A06SZ4nuDdFXtSKVixcCVNGQF8zk_3jUzTe6h-OSZliflkzp85UquQr5wZBnumrm6iSe5cwM5zGYUKaiXLH8lYjzOZmCy7qi_gqhWi9IuABiZx5nIfwFfJsbZTjPRyQBdH8Ih3oAJDTLvE_N2G23uyiXgj8TT18mKNJn3XRP9GYXbHGr3Z3344-JozKVdgDci3EcHQKom6oMoLonAXKzAxU56UetDv6Y_B9dEhVxx-23Oh8zz7gklpZxRkqh6R-EcVdPbKnBFRqgIRpVk28TxmiCrq3c2tgNukVfT1Jn49NKVmzkDt0jHz2gGXq0lm6Xhd8MPoewWQeDgmYxeD5cfcbKn3PxBbMYxOZqO1jQxxx-3tek7-gITh0cDkBqXXY6wsH53mdV7mq5Wwe6hA84kBxgU_k6gLauB0mS0IiqxyFbHwPY6_WbyHeQ7x63qrpW8P7-Dsalb_M3LW2YPx8iuCRiiWmsHu2NxkJo3ucQeqqrn-wQhmyreLiQ_GnNIuipW5wgKHixSKGX4CxXf8UqVrkYUawSuSwpK8z-5tz-hd4GvkGv59Qdt9HvNbrNds9tNJoIrqHndOttx-2qUVWlTr_fcbcI_msCNOtOv9dy2q2-Org9t9Xd_gfX0Z-s\">here</a>\n",
    "  \n"
   ]
  },
  {
   "cell_type": "markdown",
   "metadata": {},
   "source": [
    "- We can observe that in GraphRAG we retreive Community *(Cluster)* Summuries instead of Raw chunks in Traditional RAG. This is one of the main differences."
   ]
  },
  {
   "cell_type": "markdown",
   "metadata": {},
   "source": [
    "## Remarks about GraphRAG\n",
    "\n",
    "- For the momemt graphrag support only plain text like .txt or .md files. for README files we can confugure .md extention in *setting.yaml* file.\n",
    "- When initilizing the prject we go 4 essential System prompts.\n",
    "\n",
    "<p style = \"color:#90d5ff ; font-weight:bold \">entity_extraction.txt</p>\n",
    " This used for telling the LLM how it should extract entities and their relationships.\n",
    "\n",
    "<p style = \"color:#90d5ff ; font-weight:bold \">community_report.txt</p>\n",
    " This used for telling the LLM how it should generate community summuries\n",
    "\n",
    "<p style = \"color:#90d5ff ; font-weight:bold \">summarize_descriptions.txt</p>\n",
    " This used for telling the LLM how it should generate the final response based on \n",
    " provided community summuries."
   ]
  },
  {
   "cell_type": "markdown",
   "metadata": {},
   "source": [
    "```bash\n",
    "// Installing GraphRAG\n",
    "\n",
    "pip install graphrag\n",
    "\n",
    "// Initilizing GraphRAG\n",
    "\n",
    "python -m graphrag.index --init  --root . \n",
    "\n",
    "// Construct the Knowledge Graph\n",
    "\n",
    "python -m graphrag.index  --root . \n",
    "\n"
   ]
  },
  {
   "cell_type": "markdown",
   "metadata": {},
   "source": [
    "## Down sides of This approach:\n",
    "\n",
    "- It's very long and take a lot of time because the process is much more complex that traditional RAG.\n",
    "- Very sensitive to LLM choice because all the Work is done by an LLM.\n",
    "- It needs GPT4 for good results,but the cost is height (around 8$ with just one book !!) so it's very expensive."
   ]
  },
  {
   "cell_type": "code",
   "execution_count": null,
   "metadata": {},
   "outputs": [],
   "source": []
  },
  {
   "cell_type": "code",
   "execution_count": null,
   "metadata": {},
   "outputs": [],
   "source": []
  },
  {
   "cell_type": "code",
   "execution_count": null,
   "metadata": {},
   "outputs": [],
   "source": []
  },
  {
   "cell_type": "code",
   "execution_count": null,
   "metadata": {},
   "outputs": [],
   "source": []
  },
  {
   "cell_type": "code",
   "execution_count": null,
   "metadata": {},
   "outputs": [],
   "source": []
  }
 ],
 "metadata": {
  "kernelspec": {
   "display_name": "New",
   "language": "python",
   "name": "python3"
  },
  "language_info": {
   "codemirror_mode": {
    "name": "ipython",
    "version": 3
   },
   "file_extension": ".py",
   "mimetype": "text/x-python",
   "name": "python",
   "nbconvert_exporter": "python",
   "pygments_lexer": "ipython3",
   "version": "3.9.19"
  }
 },
 "nbformat": 4,
 "nbformat_minor": 2
}
